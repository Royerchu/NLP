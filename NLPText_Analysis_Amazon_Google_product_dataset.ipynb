{
 "cells": [
  {
   "cell_type": "markdown",
   "id": "a57624af",
   "metadata": {},
   "source": [
    "### Objective:\n",
    "In this assignment, you'll work with the Amazon-Google product dataset to perform entity resolution. Your task is to identify and match records across the Amazon and Google product datasets that refer to the same product."
   ]
  },
  {
   "cell_type": "code",
   "execution_count": 89,
   "id": "446953e7",
   "metadata": {},
   "outputs": [],
   "source": [
    "import pandas as pd\n",
    "import re\n",
    "import nltk\n",
    "from nltk.corpus import stopwords\n",
    "from nltk.tokenize import word_tokenize\n",
    "from sklearn.feature_extraction.text import TfidfVectorizer\n",
    "import string\n",
    "import numpy as np\n",
    "import sys\n",
    "import math\n",
    "np.set_printoptions(threshold=sys.maxsize)\n",
    "\n",
    "stop = stopwords.words('english')"
   ]
  },
  {
   "cell_type": "markdown",
   "id": "bd99d40c",
   "metadata": {},
   "source": [
    "### Dataset: \n",
    "You'll use these files for this assignment:\n",
    "- Amazon.csv\n",
    "- Google.csv\n",
    "- Amazon_GoogleProducts_perfectMapping.csv\n"
   ]
  },
  {
   "cell_type": "markdown",
   "id": "e1642b52",
   "metadata": {},
   "source": [
    "### Question 1: Data Preprocessing and Feature Engineering"
   ]
  },
  {
   "cell_type": "markdown",
   "id": "d36a7fcb",
   "metadata": {},
   "source": [
    "**1.1** : Load the three files using Pandas. How many unique products are there in (i) Amazon, and (ii) Google? (Hint: you will have to use the ground-truth links in the perfectMapping file to properly answer this question)\n"
   ]
  },
  {
   "cell_type": "code",
   "execution_count": 3,
   "id": "cc9fe11a",
   "metadata": {},
   "outputs": [],
   "source": [
    "amazon = pd.read_csv(r'C:\\Users\\royer\\Downloads\\Amazon.csv', encoding='unicode_escape')\n",
    "google = pd.read_csv(r'C:\\Users\\royer\\Downloads\\GoogleProducts.csv', encoding='unicode_escape')\n",
    "a_g= pd.read_csv(r'C:\\Users\\royer\\Downloads\\Amzon_GoogleProducts_perfectMapping.csv', encoding='unicode_escape')"
   ]
  },
  {
   "cell_type": "code",
   "execution_count": 4,
   "id": "7a0818a0",
   "metadata": {},
   "outputs": [
    {
     "data": {
      "text/plain": [
       "<bound method IndexOpsMixin.value_counts of 0       b000jz4hqo\n",
       "1       b00004tkvy\n",
       "2       b000g80lqo\n",
       "3       b0006se5bq\n",
       "4       b00021xhzw\n",
       "           ...    \n",
       "1295    b00005bigp\n",
       "1296    b000h1df7w\n",
       "1297    b000p9cr66\n",
       "1298    b000p9cr66\n",
       "1299    b000j588g4\n",
       "Name: idAmazon, Length: 1300, dtype: object>"
      ]
     },
     "execution_count": 4,
     "metadata": {},
     "output_type": "execute_result"
    }
   ],
   "source": [
    "a_g[\"idAmazon\"].value_counts"
   ]
  },
  {
   "cell_type": "code",
   "execution_count": 5,
   "id": "ad9f7bd5",
   "metadata": {},
   "outputs": [
    {
     "data": {
      "text/plain": [
       "<bound method IndexOpsMixin.value_counts of 0       http://www.google.com/base/feeds/snippets/1844...\n",
       "1       http://www.google.com/base/feeds/snippets/1844...\n",
       "2       http://www.google.com/base/feeds/snippets/1844...\n",
       "3       http://www.google.com/base/feeds/snippets/1842...\n",
       "4       http://www.google.com/base/feeds/snippets/1843...\n",
       "                              ...                        \n",
       "1295    http://www.google.com/base/feeds/snippets/1773...\n",
       "1296    http://www.google.com/base/feeds/snippets/1773...\n",
       "1297    http://www.google.com/base/feeds/snippets/1772...\n",
       "1298    http://www.google.com/base/feeds/snippets/1321...\n",
       "1299    http://www.google.com/base/feeds/snippets/1773...\n",
       "Name: idGoogleBase, Length: 1300, dtype: object>"
      ]
     },
     "execution_count": 5,
     "metadata": {},
     "output_type": "execute_result"
    }
   ],
   "source": [
    "a_g[\"idGoogleBase\"].value_counts"
   ]
  },
  {
   "cell_type": "markdown",
   "id": "18e7a709",
   "metadata": {},
   "source": [
    "**1.2**: Now, perform text preprocessing on the 'name', 'description', and 'manufacturer’ columns from both the Amazon and Google products datasets. Make sure to do the following preprocessing tasks:\n",
    "- Convert all characters to lowercase.\n",
    "- Remove special characters and punctuation, e.g., comma, parentheses, etc.\n",
    "- Eliminate stop words, e.g.,”the”, “an”, “a”, etc.\n",
    "- Convert empty strings and 'null' entries to actual null values.\n",
    "\n",
    "\n",
    "After cleaning the text data, add three new columns to both of the dataframes: 'name_cleaned', 'description_cleaned', and 'manufacturer_cleaned'. These columns store the processed text.\n",
    "\n",
    "\n",
    "(Although the following feature engineering processes are performed on the “cleaned” versions of the columns, it is always a good habit to not alter the original column, as it could be useful for spot-checks for your subsequent steps!)"
   ]
  },
  {
   "cell_type": "code",
   "execution_count": 6,
   "id": "d4efa9fe",
   "metadata": {},
   "outputs": [],
   "source": [
    "def preprocess_text(text):\n",
    "  if pd.isna(text):\n",
    "    text=\"\"\n",
    "  else:\n",
    "    text=text.lower()\n",
    "    for punctuation in string.punctuation:\n",
    "      text=text.replace(punctuation, ' ')\n",
    "    text=nltk.word_tokenize(text)\n",
    "    text = [t for t in text if not t in stop]\n",
    "    text = [t for t in text if not t.isdigit()]\n",
    "    text=' '.join(text)\n",
    "  \n",
    "  return text\n",
    "\n",
    "amazon=amazon.rename(columns={'title':'name'})\n",
    "\n",
    "for column in ['name', 'description', 'manufacturer']:\n",
    "    amazon[column + '_cleaned'] = amazon[column].apply(preprocess_text)\n",
    "    google[column + '_cleaned'] = google[column].apply(preprocess_text)\n",
    "\n"
   ]
  },
  {
   "cell_type": "code",
   "execution_count": 7,
   "id": "d2fed7ab",
   "metadata": {},
   "outputs": [
    {
     "data": {
      "text/html": [
       "<div>\n",
       "<style scoped>\n",
       "    .dataframe tbody tr th:only-of-type {\n",
       "        vertical-align: middle;\n",
       "    }\n",
       "\n",
       "    .dataframe tbody tr th {\n",
       "        vertical-align: top;\n",
       "    }\n",
       "\n",
       "    .dataframe thead th {\n",
       "        text-align: right;\n",
       "    }\n",
       "</style>\n",
       "<table border=\"1\" class=\"dataframe\">\n",
       "  <thead>\n",
       "    <tr style=\"text-align: right;\">\n",
       "      <th></th>\n",
       "      <th>id</th>\n",
       "      <th>name</th>\n",
       "      <th>description</th>\n",
       "      <th>manufacturer</th>\n",
       "      <th>price</th>\n",
       "      <th>name_cleaned</th>\n",
       "      <th>description_cleaned</th>\n",
       "      <th>manufacturer_cleaned</th>\n",
       "    </tr>\n",
       "  </thead>\n",
       "  <tbody>\n",
       "    <tr>\n",
       "      <th>0</th>\n",
       "      <td>b000jz4hqo</td>\n",
       "      <td>clickart 950 000 - premier image pack (dvd-rom)</td>\n",
       "      <td>NaN</td>\n",
       "      <td>broderbund</td>\n",
       "      <td>0.00</td>\n",
       "      <td>clickart premier image pack dvd rom</td>\n",
       "      <td></td>\n",
       "      <td>broderbund</td>\n",
       "    </tr>\n",
       "    <tr>\n",
       "      <th>1</th>\n",
       "      <td>b0006zf55o</td>\n",
       "      <td>ca international - arcserve lap/desktop oem 30pk</td>\n",
       "      <td>oem arcserve backup v11.1 win 30u for laptops ...</td>\n",
       "      <td>computer associates</td>\n",
       "      <td>0.00</td>\n",
       "      <td>ca international arcserve lap desktop oem 30pk</td>\n",
       "      <td>oem arcserve backup v11 win 30u laptops desktops</td>\n",
       "      <td>computer associates</td>\n",
       "    </tr>\n",
       "    <tr>\n",
       "      <th>2</th>\n",
       "      <td>b00004tkvy</td>\n",
       "      <td>noah's ark activity center (jewel case ages 3-8)</td>\n",
       "      <td>NaN</td>\n",
       "      <td>victory multimedia</td>\n",
       "      <td>0.00</td>\n",
       "      <td>noah ark activity center jewel case ages</td>\n",
       "      <td></td>\n",
       "      <td>victory multimedia</td>\n",
       "    </tr>\n",
       "    <tr>\n",
       "      <th>3</th>\n",
       "      <td>b000g80lqo</td>\n",
       "      <td>peachtree by sage premium accounting for nonpr...</td>\n",
       "      <td>peachtree premium accounting for nonprofits 20...</td>\n",
       "      <td>sage software</td>\n",
       "      <td>599.99</td>\n",
       "      <td>peachtree sage premium accounting nonprofits</td>\n",
       "      <td>peachtree premium accounting nonprofits afford...</td>\n",
       "      <td>sage software</td>\n",
       "    </tr>\n",
       "    <tr>\n",
       "      <th>4</th>\n",
       "      <td>b0006se5bq</td>\n",
       "      <td>singing coach unlimited</td>\n",
       "      <td>singing coach unlimited - electronic learning ...</td>\n",
       "      <td>carry-a-tune technologies</td>\n",
       "      <td>99.99</td>\n",
       "      <td>singing coach unlimited</td>\n",
       "      <td>singing coach unlimited electronic learning pr...</td>\n",
       "      <td>carry tune technologies</td>\n",
       "    </tr>\n",
       "  </tbody>\n",
       "</table>\n",
       "</div>"
      ],
      "text/plain": [
       "           id                                               name  \\\n",
       "0  b000jz4hqo    clickart 950 000 - premier image pack (dvd-rom)   \n",
       "1  b0006zf55o   ca international - arcserve lap/desktop oem 30pk   \n",
       "2  b00004tkvy   noah's ark activity center (jewel case ages 3-8)   \n",
       "3  b000g80lqo  peachtree by sage premium accounting for nonpr...   \n",
       "4  b0006se5bq                            singing coach unlimited   \n",
       "\n",
       "                                         description  \\\n",
       "0                                                NaN   \n",
       "1  oem arcserve backup v11.1 win 30u for laptops ...   \n",
       "2                                                NaN   \n",
       "3  peachtree premium accounting for nonprofits 20...   \n",
       "4  singing coach unlimited - electronic learning ...   \n",
       "\n",
       "                manufacturer   price  \\\n",
       "0                 broderbund    0.00   \n",
       "1        computer associates    0.00   \n",
       "2         victory multimedia    0.00   \n",
       "3              sage software  599.99   \n",
       "4  carry-a-tune technologies   99.99   \n",
       "\n",
       "                                     name_cleaned  \\\n",
       "0             clickart premier image pack dvd rom   \n",
       "1  ca international arcserve lap desktop oem 30pk   \n",
       "2        noah ark activity center jewel case ages   \n",
       "3    peachtree sage premium accounting nonprofits   \n",
       "4                         singing coach unlimited   \n",
       "\n",
       "                                 description_cleaned     manufacturer_cleaned  \n",
       "0                                                                  broderbund  \n",
       "1   oem arcserve backup v11 win 30u laptops desktops      computer associates  \n",
       "2                                                          victory multimedia  \n",
       "3  peachtree premium accounting nonprofits afford...            sage software  \n",
       "4  singing coach unlimited electronic learning pr...  carry tune technologies  "
      ]
     },
     "execution_count": 7,
     "metadata": {},
     "output_type": "execute_result"
    }
   ],
   "source": [
    "amazon.head(5)"
   ]
  },
  {
   "cell_type": "markdown",
   "id": "531d6cd2",
   "metadata": {},
   "source": [
    "**1.3**: Apply TF-IDF transformations to the 'name_cleaned', 'description_cleaned', and 'manufacturer_cleaned' fields of both datasets. Append the resulting TF-IDF vectors to the respective datasets as new columns: 'name_tfidf', 'description_tfidf', and ‘manufacturer_tfidf'."
   ]
  },
  {
   "cell_type": "code",
   "execution_count": 8,
   "id": "8b7cbc26",
   "metadata": {},
   "outputs": [],
   "source": [
    "def tfidf_transform(df, column):\n",
    "    vectorizer = TfidfVectorizer()\n",
    "    tfidf = vectorizer.fit_transform(df[column])\n",
    "    t_list=[]\n",
    "    t_array=tfidf.toarray()\n",
    "    #v=vectorizer.vocabulary_\n",
    "    for x in range(tfidf.shape[0]):\n",
    "        new=t_array[x]\n",
    "        t_list.append(new)\n",
    "    \n",
    "    return t_list"
   ]
  },
  {
   "cell_type": "code",
   "execution_count": 9,
   "id": "49d19cf1",
   "metadata": {},
   "outputs": [],
   "source": [
    "for column in ['name_cleaned', 'description_cleaned', 'manufacturer_cleaned']:\n",
    "    amazon[column + '_tfidf'] = tfidf_transform(amazon, column)\n",
    "    google[column + '_tfidf'] = tfidf_transform(google, column)"
   ]
  },
  {
   "cell_type": "code",
   "execution_count": 10,
   "id": "482daf63",
   "metadata": {},
   "outputs": [
    {
     "data": {
      "text/html": [
       "<div>\n",
       "<style scoped>\n",
       "    .dataframe tbody tr th:only-of-type {\n",
       "        vertical-align: middle;\n",
       "    }\n",
       "\n",
       "    .dataframe tbody tr th {\n",
       "        vertical-align: top;\n",
       "    }\n",
       "\n",
       "    .dataframe thead th {\n",
       "        text-align: right;\n",
       "    }\n",
       "</style>\n",
       "<table border=\"1\" class=\"dataframe\">\n",
       "  <thead>\n",
       "    <tr style=\"text-align: right;\">\n",
       "      <th></th>\n",
       "      <th>id</th>\n",
       "      <th>name</th>\n",
       "      <th>description</th>\n",
       "      <th>manufacturer</th>\n",
       "      <th>price</th>\n",
       "      <th>name_cleaned</th>\n",
       "      <th>description_cleaned</th>\n",
       "      <th>manufacturer_cleaned</th>\n",
       "      <th>name_cleaned_tfidf</th>\n",
       "      <th>description_cleaned_tfidf</th>\n",
       "      <th>manufacturer_cleaned_tfidf</th>\n",
       "    </tr>\n",
       "  </thead>\n",
       "  <tbody>\n",
       "    <tr>\n",
       "      <th>0</th>\n",
       "      <td>b000jz4hqo</td>\n",
       "      <td>clickart 950 000 - premier image pack (dvd-rom)</td>\n",
       "      <td>NaN</td>\n",
       "      <td>broderbund</td>\n",
       "      <td>0.00</td>\n",
       "      <td>clickart premier image pack dvd rom</td>\n",
       "      <td></td>\n",
       "      <td>broderbund</td>\n",
       "      <td>[0.0, 0.0, 0.0, 0.0, 0.0, 0.0, 0.0, 0.0, 0.0, ...</td>\n",
       "      <td>[0.0, 0.0, 0.0, 0.0, 0.0, 0.0, 0.0, 0.0, 0.0, ...</td>\n",
       "      <td>[0.0, 0.0, 0.0, 0.0, 0.0, 0.0, 0.0, 0.0, 0.0, ...</td>\n",
       "    </tr>\n",
       "    <tr>\n",
       "      <th>1</th>\n",
       "      <td>b0006zf55o</td>\n",
       "      <td>ca international - arcserve lap/desktop oem 30pk</td>\n",
       "      <td>oem arcserve backup v11.1 win 30u for laptops ...</td>\n",
       "      <td>computer associates</td>\n",
       "      <td>0.00</td>\n",
       "      <td>ca international arcserve lap desktop oem 30pk</td>\n",
       "      <td>oem arcserve backup v11 win 30u laptops desktops</td>\n",
       "      <td>computer associates</td>\n",
       "      <td>[0.0, 0.0, 0.0, 0.0, 0.0, 0.0, 0.0, 0.0, 0.0, ...</td>\n",
       "      <td>[0.0, 0.0, 0.0, 0.0, 0.0, 0.0, 0.0, 0.0, 0.0, ...</td>\n",
       "      <td>[0.0, 0.0, 0.0, 0.0, 0.0, 0.0, 0.0, 0.0, 0.0, ...</td>\n",
       "    </tr>\n",
       "    <tr>\n",
       "      <th>2</th>\n",
       "      <td>b00004tkvy</td>\n",
       "      <td>noah's ark activity center (jewel case ages 3-8)</td>\n",
       "      <td>NaN</td>\n",
       "      <td>victory multimedia</td>\n",
       "      <td>0.00</td>\n",
       "      <td>noah ark activity center jewel case ages</td>\n",
       "      <td></td>\n",
       "      <td>victory multimedia</td>\n",
       "      <td>[0.0, 0.0, 0.0, 0.0, 0.0, 0.0, 0.0, 0.0, 0.0, ...</td>\n",
       "      <td>[0.0, 0.0, 0.0, 0.0, 0.0, 0.0, 0.0, 0.0, 0.0, ...</td>\n",
       "      <td>[0.0, 0.0, 0.0, 0.0, 0.0, 0.0, 0.0, 0.0, 0.0, ...</td>\n",
       "    </tr>\n",
       "    <tr>\n",
       "      <th>3</th>\n",
       "      <td>b000g80lqo</td>\n",
       "      <td>peachtree by sage premium accounting for nonpr...</td>\n",
       "      <td>peachtree premium accounting for nonprofits 20...</td>\n",
       "      <td>sage software</td>\n",
       "      <td>599.99</td>\n",
       "      <td>peachtree sage premium accounting nonprofits</td>\n",
       "      <td>peachtree premium accounting nonprofits afford...</td>\n",
       "      <td>sage software</td>\n",
       "      <td>[0.0, 0.0, 0.0, 0.0, 0.0, 0.0, 0.0, 0.0, 0.0, ...</td>\n",
       "      <td>[0.0, 0.0, 0.0, 0.0, 0.0, 0.0, 0.0, 0.0, 0.0, ...</td>\n",
       "      <td>[0.0, 0.0, 0.0, 0.0, 0.0, 0.0, 0.0, 0.0, 0.0, ...</td>\n",
       "    </tr>\n",
       "    <tr>\n",
       "      <th>4</th>\n",
       "      <td>b0006se5bq</td>\n",
       "      <td>singing coach unlimited</td>\n",
       "      <td>singing coach unlimited - electronic learning ...</td>\n",
       "      <td>carry-a-tune technologies</td>\n",
       "      <td>99.99</td>\n",
       "      <td>singing coach unlimited</td>\n",
       "      <td>singing coach unlimited electronic learning pr...</td>\n",
       "      <td>carry tune technologies</td>\n",
       "      <td>[0.0, 0.0, 0.0, 0.0, 0.0, 0.0, 0.0, 0.0, 0.0, ...</td>\n",
       "      <td>[0.0, 0.0, 0.0, 0.0, 0.0, 0.0, 0.0, 0.0, 0.0, ...</td>\n",
       "      <td>[0.0, 0.0, 0.0, 0.0, 0.0, 0.0, 0.0, 0.0, 0.0, ...</td>\n",
       "    </tr>\n",
       "  </tbody>\n",
       "</table>\n",
       "</div>"
      ],
      "text/plain": [
       "           id                                               name  \\\n",
       "0  b000jz4hqo    clickart 950 000 - premier image pack (dvd-rom)   \n",
       "1  b0006zf55o   ca international - arcserve lap/desktop oem 30pk   \n",
       "2  b00004tkvy   noah's ark activity center (jewel case ages 3-8)   \n",
       "3  b000g80lqo  peachtree by sage premium accounting for nonpr...   \n",
       "4  b0006se5bq                            singing coach unlimited   \n",
       "\n",
       "                                         description  \\\n",
       "0                                                NaN   \n",
       "1  oem arcserve backup v11.1 win 30u for laptops ...   \n",
       "2                                                NaN   \n",
       "3  peachtree premium accounting for nonprofits 20...   \n",
       "4  singing coach unlimited - electronic learning ...   \n",
       "\n",
       "                manufacturer   price  \\\n",
       "0                 broderbund    0.00   \n",
       "1        computer associates    0.00   \n",
       "2         victory multimedia    0.00   \n",
       "3              sage software  599.99   \n",
       "4  carry-a-tune technologies   99.99   \n",
       "\n",
       "                                     name_cleaned  \\\n",
       "0             clickart premier image pack dvd rom   \n",
       "1  ca international arcserve lap desktop oem 30pk   \n",
       "2        noah ark activity center jewel case ages   \n",
       "3    peachtree sage premium accounting nonprofits   \n",
       "4                         singing coach unlimited   \n",
       "\n",
       "                                 description_cleaned     manufacturer_cleaned  \\\n",
       "0                                                                  broderbund   \n",
       "1   oem arcserve backup v11 win 30u laptops desktops      computer associates   \n",
       "2                                                          victory multimedia   \n",
       "3  peachtree premium accounting nonprofits afford...            sage software   \n",
       "4  singing coach unlimited electronic learning pr...  carry tune technologies   \n",
       "\n",
       "                                  name_cleaned_tfidf  \\\n",
       "0  [0.0, 0.0, 0.0, 0.0, 0.0, 0.0, 0.0, 0.0, 0.0, ...   \n",
       "1  [0.0, 0.0, 0.0, 0.0, 0.0, 0.0, 0.0, 0.0, 0.0, ...   \n",
       "2  [0.0, 0.0, 0.0, 0.0, 0.0, 0.0, 0.0, 0.0, 0.0, ...   \n",
       "3  [0.0, 0.0, 0.0, 0.0, 0.0, 0.0, 0.0, 0.0, 0.0, ...   \n",
       "4  [0.0, 0.0, 0.0, 0.0, 0.0, 0.0, 0.0, 0.0, 0.0, ...   \n",
       "\n",
       "                           description_cleaned_tfidf  \\\n",
       "0  [0.0, 0.0, 0.0, 0.0, 0.0, 0.0, 0.0, 0.0, 0.0, ...   \n",
       "1  [0.0, 0.0, 0.0, 0.0, 0.0, 0.0, 0.0, 0.0, 0.0, ...   \n",
       "2  [0.0, 0.0, 0.0, 0.0, 0.0, 0.0, 0.0, 0.0, 0.0, ...   \n",
       "3  [0.0, 0.0, 0.0, 0.0, 0.0, 0.0, 0.0, 0.0, 0.0, ...   \n",
       "4  [0.0, 0.0, 0.0, 0.0, 0.0, 0.0, 0.0, 0.0, 0.0, ...   \n",
       "\n",
       "                          manufacturer_cleaned_tfidf  \n",
       "0  [0.0, 0.0, 0.0, 0.0, 0.0, 0.0, 0.0, 0.0, 0.0, ...  \n",
       "1  [0.0, 0.0, 0.0, 0.0, 0.0, 0.0, 0.0, 0.0, 0.0, ...  \n",
       "2  [0.0, 0.0, 0.0, 0.0, 0.0, 0.0, 0.0, 0.0, 0.0, ...  \n",
       "3  [0.0, 0.0, 0.0, 0.0, 0.0, 0.0, 0.0, 0.0, 0.0, ...  \n",
       "4  [0.0, 0.0, 0.0, 0.0, 0.0, 0.0, 0.0, 0.0, 0.0, ...  "
      ]
     },
     "execution_count": 10,
     "metadata": {},
     "output_type": "execute_result"
    }
   ],
   "source": [
    "amazon.head(5)"
   ]
  },
  {
   "cell_type": "markdown",
   "id": "7af433aa",
   "metadata": {},
   "source": [
    "### Question 2: Simple Blocking"
   ]
  },
  {
   "cell_type": "markdown",
   "id": "2f59c430",
   "metadata": {},
   "source": [
    "In this section, you will implement and apply various blocking techniques to efficiently identify potential matches between the Amazon and Google product datasets. Blocking reduces the comparison space by only comparing records that share certain characteristics, making the entity resolution process more scalable. Implement the following blocking strategies:\n",
    "\n",
    "\n",
    "* Manufacturer Blocking: Create blocks of records that share the same manufacturer (i.e., where the records share the exact string value in the manufacturer_cleaned field). This blocking ensures that only records within each block, indicating they're from the same manufacturer, are to be compared with each other.\n",
    "\n",
    "\n",
    "* Name Token Blocking: First, tokenize the 'name_cleaned' fields of the records in both datasets. Records are considered to be in the same block if they share any common token in their 'name' field. Consider these common tokens as the match key values that identify records belonging to the same block.\n",
    "\n",
    "\n",
    "* Description Token Blocking:Tokenize the 'description_cleaned' fields of the records. Consider records as part of the same block if they share any token in their 'description_cleaned'. \n",
    "\n",
    "\n",
    "**2.1** As constraints,  1) discard any blocks that contain more than 50 records, and 2) delete any blocks that have no record from either one of the two dataset,, as a match requires at least a pair of records between the dataset. For the questions below, consider the collection of all the blocks generated from the above all three strategies, and answer the following:\n",
    "\n",
    "1. How many total blocks were created across all blocking strategies after discarding any blocks that do not satisfy the constraint?\n",
    "\n",
    "2. How many unique Amazon products are included in all of the blocks after applying the constraints?\n",
    "\n",
    "3. What is the total number of blocks that only contain Amazon records across all blocking strategies **before**  applying the constraints?\n",
    "\n",
    "4. What about  the total number of blocks that only contain Google records? **before** \n"
   ]
  },
  {
   "cell_type": "markdown",
   "id": "8dfcb484",
   "metadata": {},
   "source": [
    "* Manufacturer Blocking"
   ]
  },
  {
   "cell_type": "code",
   "execution_count": 11,
   "id": "b68f00f7",
   "metadata": {},
   "outputs": [],
   "source": [
    "from fuzzywuzzy import fuzz"
   ]
  },
  {
   "cell_type": "code",
   "execution_count": 12,
   "id": "fd7f7785",
   "metadata": {},
   "outputs": [],
   "source": [
    "def string_matching_similarity(str1, str2):\n",
    "    return fuzz.ratio(str1, str2)"
   ]
  },
  {
   "cell_type": "code",
   "execution_count": 13,
   "id": "22508788",
   "metadata": {},
   "outputs": [],
   "source": [
    "df_compare=pd.DataFrame()\n",
    "df_compare['MatchedName'] = amazon['manufacturer_cleaned'].apply(lambda x: max(google['manufacturer_cleaned'], key=lambda y: string_matching_similarity(x, y)))"
   ]
  },
  {
   "cell_type": "code",
   "execution_count": 14,
   "id": "c183760a",
   "metadata": {},
   "outputs": [],
   "source": [
    "\n",
    "c_mm_list=[]\n",
    "for mm in df_compare['MatchedName']:\n",
    "    c_mm=0\n",
    "    for a in amazon[\"manufacturer\"]:\n",
    "        if a == mm:\n",
    "            c_mm=c_mm+1\n",
    "    for g in google[\"manufacturer\"]:\n",
    "        if g == mm:\n",
    "            c_mm=c_mm+1\n",
    "    c_mm_list.append(c_mm)\n"
   ]
  },
  {
   "cell_type": "code",
   "execution_count": 15,
   "id": "dc51c4a4",
   "metadata": {},
   "outputs": [],
   "source": [
    "df_compare['count']=c_mm_list"
   ]
  },
  {
   "cell_type": "code",
   "execution_count": 16,
   "id": "a00e2f00",
   "metadata": {},
   "outputs": [],
   "source": [
    "#apply constraints\n",
    "df_compare_a=df_compare[df_compare[\"count\"]<=50]\n"
   ]
  },
  {
   "cell_type": "code",
   "execution_count": 17,
   "id": "76ae472d",
   "metadata": {},
   "outputs": [],
   "source": [
    "common_manuf=df_compare_a[\"MatchedName\"].to_list()\n",
    "common_manuf=set(common_manuf)"
   ]
  },
  {
   "cell_type": "markdown",
   "metadata": {},
   "source": [
    "* Name Token Blocking"
   ]
  },
  {
   "cell_type": "code",
   "execution_count": 18,
   "id": "1a1d189a",
   "metadata": {},
   "outputs": [],
   "source": [
    "google[\"name_cleaned_token\"]=google[\"name_cleaned\"].apply(lambda x:nltk.word_tokenize(x))\n",
    "amazon[\"name_cleaned_token\"]=amazon[\"name_cleaned\"].apply(lambda x:nltk.word_tokenize(x))"
   ]
  },
  {
   "cell_type": "code",
   "execution_count": 19,
   "id": "be460a86",
   "metadata": {},
   "outputs": [
    {
     "data": {
      "text/html": [
       "<div>\n",
       "<style scoped>\n",
       "    .dataframe tbody tr th:only-of-type {\n",
       "        vertical-align: middle;\n",
       "    }\n",
       "\n",
       "    .dataframe tbody tr th {\n",
       "        vertical-align: top;\n",
       "    }\n",
       "\n",
       "    .dataframe thead th {\n",
       "        text-align: right;\n",
       "    }\n",
       "</style>\n",
       "<table border=\"1\" class=\"dataframe\">\n",
       "  <thead>\n",
       "    <tr style=\"text-align: right;\">\n",
       "      <th></th>\n",
       "      <th>MatchedName</th>\n",
       "    </tr>\n",
       "  </thead>\n",
       "  <tbody>\n",
       "    <tr>\n",
       "      <th>0</th>\n",
       "      <td>cranium</td>\n",
       "    </tr>\n",
       "    <tr>\n",
       "      <th>1</th>\n",
       "      <td>director</td>\n",
       "    </tr>\n",
       "    <tr>\n",
       "      <th>2</th>\n",
       "      <td>podmaxx</td>\n",
       "    </tr>\n",
       "    <tr>\n",
       "      <th>3</th>\n",
       "      <td>bonus</td>\n",
       "    </tr>\n",
       "    <tr>\n",
       "      <th>4</th>\n",
       "      <td>maillist</td>\n",
       "    </tr>\n",
       "    <tr>\n",
       "      <th>...</th>\n",
       "      <td>...</td>\n",
       "    </tr>\n",
       "    <tr>\n",
       "      <th>1721</th>\n",
       "      <td>dlx</td>\n",
       "    </tr>\n",
       "    <tr>\n",
       "      <th>1722</th>\n",
       "      <td>kakuro</td>\n",
       "    </tr>\n",
       "    <tr>\n",
       "      <th>1723</th>\n",
       "      <td>adobe</td>\n",
       "    </tr>\n",
       "    <tr>\n",
       "      <th>1724</th>\n",
       "      <td>powered</td>\n",
       "    </tr>\n",
       "    <tr>\n",
       "      <th>1725</th>\n",
       "      <td>mythology</td>\n",
       "    </tr>\n",
       "  </tbody>\n",
       "</table>\n",
       "<p>1726 rows × 1 columns</p>\n",
       "</div>"
      ],
      "text/plain": [
       "     MatchedName\n",
       "0        cranium\n",
       "1       director\n",
       "2        podmaxx\n",
       "3          bonus\n",
       "4       maillist\n",
       "...          ...\n",
       "1721         dlx\n",
       "1722      kakuro\n",
       "1723       adobe\n",
       "1724     powered\n",
       "1725   mythology\n",
       "\n",
       "[1726 rows x 1 columns]"
      ]
     },
     "execution_count": 19,
     "metadata": {},
     "output_type": "execute_result"
    }
   ],
   "source": [
    "#Find common name list\n",
    "g_list=[]\n",
    "for g in google[\"name_cleaned_token\"]:\n",
    "    g_list=g_list+g\n",
    "\n",
    "a_list=[]\n",
    "for a in amazon[\"name_cleaned_token\"]:\n",
    "    a_list=a_list+a\n",
    "\n",
    "common_elements = set(g_list).intersection(a_list)\n",
    "common_elements_list = list(common_elements)\n",
    "\n",
    "common_elements_list_2=[]\n",
    "for c in common_elements_list:\n",
    "    if c.isdigit() == False:\n",
    "        common_elements_list_2.append(c)\n",
    "\n",
    "df_name_compare=pd.DataFrame(common_elements_list_2,columns=['MatchedName'])\n",
    "df_name_compare"
   ]
  },
  {
   "cell_type": "code",
   "execution_count": 20,
   "id": "b0d41aea",
   "metadata": {},
   "outputs": [],
   "source": [
    "list_counts = {}\n",
    "for lst in df_name_compare[\"MatchedName\"]:\n",
    "    for g in google[\"name_cleaned_token\"]:\n",
    "        if lst in g:\n",
    "            list_counts[lst] = list_counts.get(lst, 0) + 1\n",
    "    for a in amazon[\"name_cleaned_token\"]:\n",
    "        if lst in a:\n",
    "            list_counts[lst] = list_counts.get(lst, 0) + 1\n",
    "df=pd.DataFrame(list_counts.items(),columns=[\"Key\", \"Value\"])\n",
    "df_name_compare_a=df[df[\"Value\"]<=50]"
   ]
  },
  {
   "cell_type": "code",
   "execution_count": 21,
   "id": "5dcb8a92",
   "metadata": {},
   "outputs": [
    {
     "data": {
      "text/plain": [
       "50"
      ]
     },
     "execution_count": 21,
     "metadata": {},
     "output_type": "execute_result"
    }
   ],
   "source": [
    "#Check the constraints\n",
    "df_name_compare_a[\"Value\"].max()"
   ]
  },
  {
   "cell_type": "markdown",
   "metadata": {},
   "source": [
    "* Description Token Blocking"
   ]
  },
  {
   "cell_type": "code",
   "execution_count": 22,
   "id": "3b30b5f6",
   "metadata": {},
   "outputs": [],
   "source": [
    "google[\"description_cleaned_token\"]=google[\"description_cleaned\"].apply(lambda x:nltk.word_tokenize(x))\n",
    "amazon[\"description_cleaned_token\"]=amazon[\"description_cleaned\"].apply(lambda x:nltk.word_tokenize(x))"
   ]
  },
  {
   "cell_type": "code",
   "execution_count": 23,
   "id": "cefad1b6",
   "metadata": {},
   "outputs": [],
   "source": [
    "#form a list with words that contain both in google's description and amazone's description\n",
    "\n",
    "#google word list\n",
    "word_list_g_d=[]\n",
    "for sen in google[\"description_cleaned_token\"]:\n",
    "    for word in sen:\n",
    "        if word not in word_list_g_d:\n",
    "            word_list_g_d.append(word)\n",
    "\n",
    "#amazon word list\n",
    "word_list_a_d=[]\n",
    "for sen in amazon[\"description_cleaned_token\"]:\n",
    "    for word in sen:\n",
    "        if word not in word_list_a_d:\n",
    "            word_list_a_d.append(word)\n",
    "\n",
    "common_elements = set(word_list_g_d) & set(word_list_a_d)"
   ]
  },
  {
   "cell_type": "code",
   "execution_count": 24,
   "id": "f6cef563",
   "metadata": {},
   "outputs": [],
   "source": [
    "#apply the contraint\n",
    "block_d={}\n",
    "for c in common_elements:\n",
    "    for sen in google[\"description_cleaned_token\"]:\n",
    "        if c in sen:\n",
    "            block_d[c] = block_d.get(c, 1) + 1\n",
    "    for sen2 in amazon[\"description_cleaned_token\"]:\n",
    "        if c in sen2:\n",
    "            block_d[c] = block_d.get(c, 1) + 1\n",
    "            \n",
    "filtered_block_d = {key: value for key, value in block_d.items() if value <= 50}"
   ]
  },
  {
   "cell_type": "code",
   "execution_count": 25,
   "id": "d395ce95",
   "metadata": {},
   "outputs": [
    {
     "data": {
      "text/plain": [
       "50"
      ]
     },
     "execution_count": 25,
     "metadata": {},
     "output_type": "execute_result"
    }
   ],
   "source": [
    "#check the contraint\n",
    "list=filtered_block_d.values()\n",
    "max(list)"
   ]
  },
  {
   "cell_type": "markdown",
   "metadata": {},
   "source": [
    "1. How many total blocks were created across all blocking strategies after discarding any blocks that do not satisfy the constraint?"
   ]
  },
  {
   "cell_type": "code",
   "execution_count": 26,
   "id": "e8d4b56a",
   "metadata": {},
   "outputs": [
    {
     "data": {
      "text/plain": [
       "6920"
      ]
     },
     "execution_count": 26,
     "metadata": {},
     "output_type": "execute_result"
    }
   ],
   "source": [
    "len(df_compare_a.drop_duplicates()) + len(df_name_compare_a.drop_duplicates()) + len(filtered_block_d)"
   ]
  },
  {
   "cell_type": "markdown",
   "metadata": {},
   "source": [
    "2. How many unique Amazon products are included in all of the blocks after applying the constraints?"
   ]
  },
  {
   "cell_type": "code",
   "execution_count": 27,
   "id": "538c9e6b",
   "metadata": {},
   "outputs": [
    {
     "data": {
      "text/plain": [
       "17414"
      ]
     },
     "execution_count": 27,
     "metadata": {},
     "output_type": "execute_result"
    }
   ],
   "source": [
    "amazon_c=amazon[amazon[\"manufacturer\"].isin(common_manuf)==True]\n",
    "count_a=len(amazon_c)\n",
    "for nn in df_name_compare_a[\"Key\"]:\n",
    "        for a in amazon[\"name\"]:\n",
    "                if nn in a:\n",
    "                        count_a=count_a+1\n",
    "amazon_dd=amazon[amazon[\"description\"].isin(filtered_block_d.keys())==True]\n",
    "count_a=count_a+len(amazon_c)\n",
    "count_a\n",
    "     "
   ]
  },
  {
   "cell_type": "markdown",
   "metadata": {},
   "source": [
    "3. What is the total number of blocks that only contain Amazon records across all blocking strategies **before**  applying the constraints?"
   ]
  },
  {
   "cell_type": "code",
   "execution_count": 28,
   "id": "09ab9927",
   "metadata": {},
   "outputs": [],
   "source": [
    "#delete the manufacturer that include in the common list\n",
    "only_amazon=amazon[amazon[\"manufacturer_cleaned\"].isin(common_manuf)==False]"
   ]
  },
  {
   "cell_type": "code",
   "execution_count": 29,
   "id": "4e803e5c",
   "metadata": {},
   "outputs": [],
   "source": [
    "#delete the name that include in the common list\n",
    "#combine token to match (from common list)\n",
    "list_com_name=df_name_compare_a[\"Key\"].apply(lambda x: \" \".join(x))\n",
    "list_com_name=list_com_name.to_list()"
   ]
  },
  {
   "cell_type": "code",
   "execution_count": 30,
   "id": "8d2568c7",
   "metadata": {},
   "outputs": [],
   "source": [
    "#combine token to match (from Amazon dataset)\n",
    "amazon[\"name_cleaned_token_all\"] = amazon[\"name_cleaned_token\"].apply(lambda x: ' '.join(x))"
   ]
  },
  {
   "cell_type": "code",
   "execution_count": 31,
   "id": "0ae5daf2",
   "metadata": {},
   "outputs": [],
   "source": [
    "#delete the name that include in the common list\n",
    "only_amazon_2=amazon[amazon[\"name_cleaned_token_all\"].isin(list_com_name)==False]"
   ]
  },
  {
   "cell_type": "code",
   "execution_count": 32,
   "id": "0764364c",
   "metadata": {},
   "outputs": [],
   "source": [
    "#these tokens are shared in Amazon and Google\n",
    "filtered_block_d \n",
    "common_des_a=filtered_block_d.keys()"
   ]
  },
  {
   "cell_type": "code",
   "execution_count": 33,
   "id": "c58a5793",
   "metadata": {},
   "outputs": [],
   "source": [
    "#delete the desciption with []\n",
    "only_amazon_3 = amazon[amazon['description_cleaned_token'].apply(lambda x: len(x) > 0)]\n",
    "only_amazon_3 =only_amazon_3 .reset_index(drop=True)"
   ]
  },
  {
   "cell_type": "code",
   "execution_count": 34,
   "id": "6b220fd1",
   "metadata": {},
   "outputs": [],
   "source": [
    "index_to_delete = []\n",
    "for c in common_des_a:\n",
    "    index=0\n",
    "    for sen in only_amazon_3[\"description_cleaned_token\"]:\n",
    "        if c in sen:\n",
    "            index_to_delete.append(index)\n",
    "        index=index+1\n",
    "index_to_delete=set(index_to_delete)\n",
    "only_amazon_3= only_amazon_3.drop(index_to_delete)"
   ]
  },
  {
   "cell_type": "code",
   "execution_count": 35,
   "id": "b0470a4d",
   "metadata": {},
   "outputs": [
    {
     "data": {
      "text/plain": [
       "671"
      ]
     },
     "execution_count": 35,
     "metadata": {},
     "output_type": "execute_result"
    }
   ],
   "source": [
    "#Total\n",
    "len(only_amazon[\"manufacturer_cleaned\"].drop_duplicates())+len(only_amazon_2[\"manufacturer_cleaned\"].drop_duplicates())+len(only_amazon_3[\"manufacturer_cleaned\"].drop_duplicates())"
   ]
  },
  {
   "cell_type": "markdown",
   "metadata": {},
   "source": [
    "4. What about  the total number of blocks that only contain Google records **before** applying the constraints?  "
   ]
  },
  {
   "cell_type": "code",
   "execution_count": 36,
   "id": "cbb25dc3",
   "metadata": {},
   "outputs": [],
   "source": [
    "#delete the manufacturer that include in the common list\n",
    "only_google=google[google[\"manufacturer_cleaned\"].isin(common_manuf)==False]"
   ]
  },
  {
   "cell_type": "code",
   "execution_count": 37,
   "id": "4ba34429",
   "metadata": {},
   "outputs": [],
   "source": [
    "#combine token to match (from Amazon dataset)\n",
    "google[\"name_cleaned_token_all\"] = google[\"name_cleaned_token\"].apply(lambda x: ' '.join(x))\n",
    "#delete the name that include in the common list\n",
    "only_google_2=google[google[\"name_cleaned_token_all\"].isin(list_com_name)==False]"
   ]
  },
  {
   "cell_type": "code",
   "execution_count": 38,
   "id": "117a7f5f",
   "metadata": {},
   "outputs": [],
   "source": [
    "#delete the desciption with []\n",
    "only_google_3 = google[google['description_cleaned_token'].apply(lambda x: len(x) > 0)]\n",
    "only_google_3 =only_google_3 .reset_index(drop=True)\n",
    "\n",
    "index_to_delete_2 = []\n",
    "for c in common_des_a:\n",
    "    index=0\n",
    "    for sen in only_google_3[\"description_cleaned_token\"]:\n",
    "        if c in sen:\n",
    "            index_to_delete_2.append(index)\n",
    "        index=index+1\n",
    "\n",
    "index_to_delete_2=set(index_to_delete_2)\n",
    "only_google_3= only_google_3.drop(index_to_delete_2)"
   ]
  },
  {
   "cell_type": "code",
   "execution_count": 39,
   "id": "4c3fd656",
   "metadata": {},
   "outputs": [
    {
     "data": {
      "text/plain": [
       "79"
      ]
     },
     "execution_count": 39,
     "metadata": {},
     "output_type": "execute_result"
    }
   ],
   "source": [
    "#Total\n",
    "len(only_google[\"manufacturer_cleaned\"].drop_duplicates())+len(only_google_2[\"manufacturer_cleaned\"].drop_duplicates())+len(only_google_3[\"manufacturer_cleaned\"].drop_duplicates())"
   ]
  },
  {
   "cell_type": "markdown",
   "id": "f8b24872",
   "metadata": {},
   "source": [
    "### Question 3: Pairing and Similarity Calculation"
   ]
  },
  {
   "cell_type": "markdown",
   "id": "005a6076",
   "metadata": {},
   "source": [
    "**3.1**: Now consider the blocks generated by ***Manufacturer Blocking***. Within each valid block, generate all possible pairings of records from the Amazon dataset with those from the Google dataset. This step creates a set of candidate pairs, each potentially representing the same product. Using the ground-truth file we imported earlier,\n",
    "\n",
    "\n",
    "1. What is the pairs completeness for the candidate pairs resulting from Manufacturer Blocking?\n",
    "2. What reduction ratio has been achieved through Manufacturer Blocking?\n",
    "3. Assuming perfect similarity, what will be the precision and recall rates for the overall ER system implementing Manufacturer Blocking strategy？\n",
    "\n",
    "\n",
    "* Note: This method is efficient as it limits comparisons to records already deemed potentially identical or similar through blocking.\n"
   ]
  },
  {
   "cell_type": "markdown",
   "metadata": {},
   "source": [
    "1. What is the pairs completeness for the candidate pairs resulting from Manufacturer Blocking?"
   ]
  },
  {
   "cell_type": "code",
   "execution_count": 55,
   "id": "52283a61",
   "metadata": {},
   "outputs": [],
   "source": [
    "#generate all possible pairings of records from the Amazon dataset with those from the Google dataset\n",
    "pair_list=[]\n",
    "for man in common_manuf:\n",
    "    google_id=google[google[\"manufacturer_cleaned\"]==man][\"id\"]\n",
    "    amazon_id=amazon[amazon[\"manufacturer_cleaned\"]==man][\"id\"]\n",
    "    for g in google_id:\n",
    "        for a in amazon_id:\n",
    "            pair_list.append([a,g])\n"
   ]
  },
  {
   "cell_type": "code",
   "execution_count": 57,
   "id": "e5dbf5b5",
   "metadata": {},
   "outputs": [],
   "source": [
    "a_g_list=a_g.values.tolist()\n",
    "#compare the pair_list to a_g_list\n",
    "\n",
    "matches = []\n",
    "for tuple1 in pair_list:\n",
    "    #print(list[tuple1])\n",
    "    # print(\"c\",list1_for_comparison)\n",
    "    # print(a_g_list)\n",
    "    if tuple1 in tuple(a_g_list):\n",
    "        matches.append(tuple1)\n",
    "    "
   ]
  },
  {
   "cell_type": "code",
   "execution_count": 59,
   "id": "b3f65671",
   "metadata": {},
   "outputs": [
    {
     "data": {
      "text/plain": [
       "0.03923076923076923"
      ]
     },
     "execution_count": 59,
     "metadata": {},
     "output_type": "execute_result"
    }
   ],
   "source": [
    "#Pair Completeness\n",
    "(len(matches)/len(a_g_list))"
   ]
  },
  {
   "cell_type": "markdown",
   "metadata": {},
   "source": [
    "2. What reduction ratio has been achieved through Manufacturer Blocking?"
   ]
  },
  {
   "cell_type": "code",
   "execution_count": 60,
   "id": "80ce2ff6",
   "metadata": {},
   "outputs": [
    {
     "data": {
      "text/plain": [
       "0.999216264239526"
      ]
     },
     "execution_count": 60,
     "metadata": {},
     "output_type": "execute_result"
    }
   ],
   "source": [
    "1-(len(pair_list)/(len(amazon[\"manufacturer_cleaned\"])*len(amazon[\"manufacturer_cleaned\"])))"
   ]
  },
  {
   "cell_type": "markdown",
   "metadata": {},
   "source": [
    "3. Assuming perfect similarity, what will be the precision and recall rates for the overall ER system implementing Manufacturer Blocking strategy？"
   ]
  },
  {
   "attachments": {
    "image.png": {
     "image/png": "[encoded data removed]"
    }
   },
   "cell_type": "markdown",
   "id": "973b2ec5",
   "metadata": {},
   "source": [
    "![image.png](attachment:image.png)"
   ]
  },
  {
   "cell_type": "code",
   "execution_count": 61,
   "id": "44869ebd",
   "metadata": {},
   "outputs": [
    {
     "data": {
      "text/plain": [
       "1.0"
      ]
     },
     "execution_count": 61,
     "metadata": {},
     "output_type": "execute_result"
    }
   ],
   "source": [
    "#precision\n",
    "len(matches)/len(matches)"
   ]
  },
  {
   "cell_type": "code",
   "execution_count": 64,
   "id": "0081aca1",
   "metadata": {},
   "outputs": [],
   "source": [
    "in_perfect_map_no_matches = []\n",
    "for m in a_g_list:\n",
    "    #list1_for_comparison = list(m)\n",
    "    if m not in matches:\n",
    "        in_perfect_map_no_matches.append(m)"
   ]
  },
  {
   "cell_type": "code",
   "execution_count": 66,
   "id": "cacbc850",
   "metadata": {},
   "outputs": [],
   "source": [
    "TP=len(matches)\n",
    "#FP=len(pairlist_withno_matches)\n",
    "#FN-=the pair is same as the perfect mapping, but not in the same manufacter\n",
    "FN=len(in_perfect_map_no_matches)"
   ]
  },
  {
   "cell_type": "code",
   "execution_count": 67,
   "id": "a072f0dc",
   "metadata": {},
   "outputs": [
    {
     "data": {
      "text/plain": [
       "0.03923076923076923"
      ]
     },
     "execution_count": 67,
     "metadata": {},
     "output_type": "execute_result"
    }
   ],
   "source": [
    "Recall=TP/(TP+FN)\n",
    "Recall"
   ]
  },
  {
   "cell_type": "markdown",
   "id": "5cfa478f",
   "metadata": {},
   "source": [
    "**3.2**: Consolidate the candidate pairs into a **new** single DataFrame referred to as \"candidate_pairs\". This DataFrame is intended to contain columns from the Amazon and Google datasets that correspond to each group of candidate pairs. Print the first 10 rows of \"candidate_pairs\".\n",
    "\n",
    "For each pair, your DataFrame should at least include the following columns:\n",
    "\n",
    "* 'amazon_id': The unique identifier for the product in the Amazon dataset.\n",
    "* 'google_id': The unique identifier for the product in the Google dataset.\n",
    "* 'amazon_name_tfidf': The name of the product from the Amazon dataset.\n",
    "* 'google_name_tfidf': The name of the product from the Google dataset.\n",
    "* 'amazon_description_tfidf': The description of the product from the Amazon dataset.\n",
    "* 'google_description_tfidf': The description of the product from the Google dataset.\n",
    "* 'amazon_manufacturer_tfidf': The manufacturer of the product from the Amazon dataset.\n",
    "* 'google_manufacturer_tfidf': The manufacturer of the product from the Google dataset.\n"
   ]
  },
  {
   "cell_type": "code",
   "execution_count": 69,
   "id": "5985d172",
   "metadata": {},
   "outputs": [],
   "source": [
    "list_can_pair=[]\n",
    "\n",
    "for index,row in pair_list:\n",
    "    row_new=[]\n",
    "    for index_a,row_a in amazon.iterrows():\n",
    "        if row_a[\"id\"] in index:\n",
    "            row_new.append(row_a[\"id\"])\n",
    "            row_new.append(row_a[\"name_cleaned\"])\n",
    "            row_new.append(row_a[\"description_cleaned\"])\n",
    "            row_new.append(row_a[\"manufacturer_cleaned\"])\n",
    "    \n",
    "    for index_g,row_g in google.iterrows():\n",
    "        if row_g[\"id\"] in row:\n",
    "            row_new.append(row_g[\"id\"])\n",
    "            row_new.append(row_g[\"name_cleaned\"])\n",
    "            row_new.append(row_g[\"description_cleaned\"])\n",
    "            row_new.append(row_g[\"manufacturer_cleaned\"])\n",
    "    list_can_pair.append(row_new)\n"
   ]
  },
  {
   "cell_type": "code",
   "execution_count": 72,
   "id": "67de8439",
   "metadata": {},
   "outputs": [],
   "source": [
    "candidate_pairs=pd.DataFrame(list_can_pair,columns=[\"amazon_id\",\"amazon_name\",'amazon_description','amazon_manufacturer',\"google_id\",'google_name','google_description','google_manufacturer'])"
   ]
  },
  {
   "cell_type": "code",
   "execution_count": 73,
   "id": "080c8239",
   "metadata": {},
   "outputs": [
    {
     "data": {
      "text/html": [
       "<div>\n",
       "<style scoped>\n",
       "    .dataframe tbody tr th:only-of-type {\n",
       "        vertical-align: middle;\n",
       "    }\n",
       "\n",
       "    .dataframe tbody tr th {\n",
       "        vertical-align: top;\n",
       "    }\n",
       "\n",
       "    .dataframe thead th {\n",
       "        text-align: right;\n",
       "    }\n",
       "</style>\n",
       "<table border=\"1\" class=\"dataframe\">\n",
       "  <thead>\n",
       "    <tr style=\"text-align: right;\">\n",
       "      <th></th>\n",
       "      <th>amazon_id</th>\n",
       "      <th>amazon_name</th>\n",
       "      <th>amazon_description</th>\n",
       "      <th>amazon_manufacturer</th>\n",
       "      <th>google_id</th>\n",
       "      <th>google_name</th>\n",
       "      <th>google_description</th>\n",
       "      <th>google_manufacturer</th>\n",
       "      <th>amazon_name_tfidf</th>\n",
       "      <th>google_name_tfidf</th>\n",
       "      <th>amazon_manufacturer_tfidf</th>\n",
       "      <th>google_manufacturer_tfidf</th>\n",
       "      <th>amazon_description_tfidf</th>\n",
       "      <th>google_description_tfidf</th>\n",
       "    </tr>\n",
       "  </thead>\n",
       "  <tbody>\n",
       "    <tr>\n",
       "      <th>0</th>\n",
       "      <td>b0009hl34q</td>\n",
       "      <td>tropico pirate cove mac</td>\n",
       "      <td>tropico pirate cove ruler land full scurvy sea...</td>\n",
       "      <td>destineer inc</td>\n",
       "      <td>http://www.google.com/base/feeds/snippets/1842...</td>\n",
       "      <td>destineer inc scrabble mac later</td>\n",
       "      <td>play one eight challenging computer opponents ...</td>\n",
       "      <td>destineer inc</td>\n",
       "      <td>[0.0, 0.0, 0.0, 0.0, 0.0, 0.0, 0.0, 0.0, 0.0, ...</td>\n",
       "      <td>[0.0, 0.0, 0.0, 0.0, 0.0, 0.0, 0.0, 0.0, 0.0, ...</td>\n",
       "      <td>[0.0, 0.0, 0.0, 0.0, 0.0, 0.0, 0.0, 0.0, 0.0, ...</td>\n",
       "      <td>[0.0, 0.0, 0.0, 0.0, 0.0, 0.0, 0.0, 0.0, 0.0, ...</td>\n",
       "      <td>[0.0, 0.0, 0.0, 0.0, 0.0, 0.0, 0.0, 0.0, 0.0, ...</td>\n",
       "      <td>[0.0, 0.0, 0.0, 0.0, 0.0, 0.0, 0.0, 0.0, 0.0, ...</td>\n",
       "    </tr>\n",
       "    <tr>\n",
       "      <th>1</th>\n",
       "      <td>b000cpshfs</td>\n",
       "      <td>everquest titanium</td>\n",
       "      <td>includes original everquest ten expansion pack...</td>\n",
       "      <td>sony creative software</td>\n",
       "      <td>http://www.google.com/base/feeds/snippets/1299...</td>\n",
       "      <td>vegas movie studiodvd plat</td>\n",
       "      <td>sony media software vegas movie studio dvd pla...</td>\n",
       "      <td>sony creative software</td>\n",
       "      <td>[0.0, 0.0, 0.0, 0.0, 0.0, 0.0, 0.0, 0.0, 0.0, ...</td>\n",
       "      <td>[0.0, 0.0, 0.0, 0.0, 0.0, 0.0, 0.0, 0.0, 0.0, ...</td>\n",
       "      <td>[0.0, 0.0, 0.0, 0.0, 0.0, 0.0, 0.0, 0.0, 0.0, ...</td>\n",
       "      <td>[0.0, 0.0, 0.0, 0.0, 0.0, 0.0, 0.0, 0.0, 0.0, ...</td>\n",
       "      <td>[0.0, 0.0, 0.0, 0.0, 0.0, 0.0, 0.0, 0.0, 0.0, ...</td>\n",
       "      <td>[0.0, 0.0, 0.0, 0.0, 0.0, 0.0, 0.0, 0.0, 0.0, ...</td>\n",
       "    </tr>\n",
       "    <tr>\n",
       "      <th>2</th>\n",
       "      <td>b000edvrtq</td>\n",
       "      <td>station access collection</td>\n",
       "      <td>really want jump online massive gaming experie...</td>\n",
       "      <td>sony creative software</td>\n",
       "      <td>http://www.google.com/base/feeds/snippets/1299...</td>\n",
       "      <td>vegas movie studiodvd plat</td>\n",
       "      <td>sony media software vegas movie studio dvd pla...</td>\n",
       "      <td>sony creative software</td>\n",
       "      <td>[0.0, 0.0, 0.0, 0.0, 0.0, 0.0, 0.0, 0.0, 0.0, ...</td>\n",
       "      <td>[0.0, 0.0, 0.0, 0.0, 0.0, 0.0, 0.0, 0.0, 0.0, ...</td>\n",
       "      <td>[0.0, 0.0, 0.0, 0.0, 0.0, 0.0, 0.0, 0.0, 0.0, ...</td>\n",
       "      <td>[0.0, 0.0, 0.0, 0.0, 0.0, 0.0, 0.0, 0.0, 0.0, ...</td>\n",
       "      <td>[0.0, 0.0, 0.0, 0.0, 0.0, 0.0, 0.0, 0.0, 0.0, ...</td>\n",
       "      <td>[0.0, 0.0, 0.0, 0.0, 0.0, 0.0, 0.0, 0.0, 0.0, ...</td>\n",
       "    </tr>\n",
       "    <tr>\n",
       "      <th>3</th>\n",
       "      <td>b000cpshfs</td>\n",
       "      <td>everquest titanium</td>\n",
       "      <td>includes original everquest ten expansion pack...</td>\n",
       "      <td>sony creative software</td>\n",
       "      <td>http://www.google.com/base/feeds/snippets/1195...</td>\n",
       "      <td>digital video audio prod book</td>\n",
       "      <td>hands guide creating rich multimedia vegas sof...</td>\n",
       "      <td>sony creative software</td>\n",
       "      <td>[0.0, 0.0, 0.0, 0.0, 0.0, 0.0, 0.0, 0.0, 0.0, ...</td>\n",
       "      <td>[0.0, 0.0, 0.0, 0.0, 0.0, 0.0, 0.0, 0.0, 0.0, ...</td>\n",
       "      <td>[0.0, 0.0, 0.0, 0.0, 0.0, 0.0, 0.0, 0.0, 0.0, ...</td>\n",
       "      <td>[0.0, 0.0, 0.0, 0.0, 0.0, 0.0, 0.0, 0.0, 0.0, ...</td>\n",
       "      <td>[0.0, 0.0, 0.0, 0.0, 0.0, 0.0, 0.0, 0.0, 0.0, ...</td>\n",
       "      <td>[0.0, 0.0, 0.0, 0.0, 0.0, 0.0, 0.0, 0.0, 0.0, ...</td>\n",
       "    </tr>\n",
       "    <tr>\n",
       "      <th>4</th>\n",
       "      <td>b000edvrtq</td>\n",
       "      <td>station access collection</td>\n",
       "      <td>really want jump online massive gaming experie...</td>\n",
       "      <td>sony creative software</td>\n",
       "      <td>http://www.google.com/base/feeds/snippets/1195...</td>\n",
       "      <td>digital video audio prod book</td>\n",
       "      <td>hands guide creating rich multimedia vegas sof...</td>\n",
       "      <td>sony creative software</td>\n",
       "      <td>[0.0, 0.0, 0.0, 0.0, 0.0, 0.0, 0.0, 0.0, 0.0, ...</td>\n",
       "      <td>[0.0, 0.0, 0.0, 0.0, 0.0, 0.0, 0.0, 0.0, 0.0, ...</td>\n",
       "      <td>[0.0, 0.0, 0.0, 0.0, 0.0, 0.0, 0.0, 0.0, 0.0, ...</td>\n",
       "      <td>[0.0, 0.0, 0.0, 0.0, 0.0, 0.0, 0.0, 0.0, 0.0, ...</td>\n",
       "      <td>[0.0, 0.0, 0.0, 0.0, 0.0, 0.0, 0.0, 0.0, 0.0, ...</td>\n",
       "      <td>[0.0, 0.0, 0.0, 0.0, 0.0, 0.0, 0.0, 0.0, 0.0, ...</td>\n",
       "    </tr>\n",
       "    <tr>\n",
       "      <th>5</th>\n",
       "      <td>b000g80lqo</td>\n",
       "      <td>peachtree sage premium accounting nonprofits</td>\n",
       "      <td>peachtree premium accounting nonprofits afford...</td>\n",
       "      <td>sage software</td>\n",
       "      <td>http://www.google.com/base/feeds/snippets/1605...</td>\n",
       "      <td>sage software acts2005rt act</td>\n",
       "      <td>act designed windows xp server server organize...</td>\n",
       "      <td>sage software</td>\n",
       "      <td>[0.0, 0.0, 0.0, 0.0, 0.0, 0.0, 0.0, 0.0, 0.0, ...</td>\n",
       "      <td>[0.0, 0.0, 0.0, 0.0, 0.0, 0.0, 0.0, 0.0, 0.0, ...</td>\n",
       "      <td>[0.0, 0.0, 0.0, 0.0, 0.0, 0.0, 0.0, 0.0, 0.0, ...</td>\n",
       "      <td>[0.0, 0.0, 0.0, 0.0, 0.0, 0.0, 0.0, 0.0, 0.0, ...</td>\n",
       "      <td>[0.0, 0.0, 0.0, 0.0, 0.0, 0.0, 0.0, 0.0, 0.0, ...</td>\n",
       "      <td>[0.0, 0.0, 0.0, 0.0, 0.0, 0.0, 0.0, 0.0, 0.0, ...</td>\n",
       "    </tr>\n",
       "    <tr>\n",
       "      <th>6</th>\n",
       "      <td>b000g7wses</td>\n",
       "      <td>peachtree sage premium accounting manufacturin...</td>\n",
       "      <td>peachtree prem manufact mup</td>\n",
       "      <td>sage software</td>\n",
       "      <td>http://www.google.com/base/feeds/snippets/1605...</td>\n",
       "      <td>sage software acts2005rt act</td>\n",
       "      <td>act designed windows xp server server organize...</td>\n",
       "      <td>sage software</td>\n",
       "      <td>[0.0, 0.0, 0.0, 0.0, 0.0, 0.0, 0.0, 0.0, 0.0, ...</td>\n",
       "      <td>[0.0, 0.0, 0.0, 0.0, 0.0, 0.0, 0.0, 0.0, 0.0, ...</td>\n",
       "      <td>[0.0, 0.0, 0.0, 0.0, 0.0, 0.0, 0.0, 0.0, 0.0, ...</td>\n",
       "      <td>[0.0, 0.0, 0.0, 0.0, 0.0, 0.0, 0.0, 0.0, 0.0, ...</td>\n",
       "      <td>[0.0, 0.0, 0.0, 0.0, 0.0, 0.0, 0.0, 0.0, 0.0, ...</td>\n",
       "      <td>[0.0, 0.0, 0.0, 0.0, 0.0, 0.0, 0.0, 0.0, 0.0, ...</td>\n",
       "    </tr>\n",
       "    <tr>\n",
       "      <th>7</th>\n",
       "      <td>b000g80lku</td>\n",
       "      <td>peachtree sage premium accounting accountants ...</td>\n",
       "      <td>peachtree premium accounting accountants editi...</td>\n",
       "      <td>sage software</td>\n",
       "      <td>http://www.google.com/base/feeds/snippets/1605...</td>\n",
       "      <td>sage software acts2005rt act</td>\n",
       "      <td>act designed windows xp server server organize...</td>\n",
       "      <td>sage software</td>\n",
       "      <td>[0.0, 0.0, 0.0, 0.0, 0.0, 0.0, 0.0, 0.0, 0.0, ...</td>\n",
       "      <td>[0.0, 0.0, 0.0, 0.0, 0.0, 0.0, 0.0, 0.0, 0.0, ...</td>\n",
       "      <td>[0.0, 0.0, 0.0, 0.0, 0.0, 0.0, 0.0, 0.0, 0.0, ...</td>\n",
       "      <td>[0.0, 0.0, 0.0, 0.0, 0.0, 0.0, 0.0, 0.0, 0.0, ...</td>\n",
       "      <td>[0.0, 0.0, 0.0, 0.0, 0.0, 0.0, 0.0, 0.0, 0.0, ...</td>\n",
       "      <td>[0.0, 0.0, 0.0, 0.0, 0.0, 0.0, 0.0, 0.0, 0.0, ...</td>\n",
       "    </tr>\n",
       "    <tr>\n",
       "      <th>8</th>\n",
       "      <td>b000gb1xfo</td>\n",
       "      <td>peachtree sage premium accounting</td>\n",
       "      <td>peachtree premium accounting comprehensive sol...</td>\n",
       "      <td>sage software</td>\n",
       "      <td>http://www.google.com/base/feeds/snippets/1605...</td>\n",
       "      <td>sage software acts2005rt act</td>\n",
       "      <td>act designed windows xp server server organize...</td>\n",
       "      <td>sage software</td>\n",
       "      <td>[0.0, 0.0, 0.0, 0.0, 0.0, 0.0, 0.0, 0.0, 0.0, ...</td>\n",
       "      <td>[0.0, 0.0, 0.0, 0.0, 0.0, 0.0, 0.0, 0.0, 0.0, ...</td>\n",
       "      <td>[0.0, 0.0, 0.0, 0.0, 0.0, 0.0, 0.0, 0.0, 0.0, ...</td>\n",
       "      <td>[0.0, 0.0, 0.0, 0.0, 0.0, 0.0, 0.0, 0.0, 0.0, ...</td>\n",
       "      <td>[0.0, 0.0, 0.0, 0.0, 0.0, 0.0, 0.0, 0.0, 0.0, ...</td>\n",
       "      <td>[0.0, 0.0, 0.0, 0.0, 0.0, 0.0, 0.0, 0.0, 0.0, ...</td>\n",
       "    </tr>\n",
       "    <tr>\n",
       "      <th>9</th>\n",
       "      <td>b000gb0m7y</td>\n",
       "      <td>peachtree sage pro accounting</td>\n",
       "      <td>looking complement business operations robust ...</td>\n",
       "      <td>sage software</td>\n",
       "      <td>http://www.google.com/base/feeds/snippets/1605...</td>\n",
       "      <td>sage software acts2005rt act</td>\n",
       "      <td>act designed windows xp server server organize...</td>\n",
       "      <td>sage software</td>\n",
       "      <td>[0.0, 0.0, 0.0, 0.0, 0.0, 0.0, 0.0, 0.0, 0.0, ...</td>\n",
       "      <td>[0.0, 0.0, 0.0, 0.0, 0.0, 0.0, 0.0, 0.0, 0.0, ...</td>\n",
       "      <td>[0.0, 0.0, 0.0, 0.0, 0.0, 0.0, 0.0, 0.0, 0.0, ...</td>\n",
       "      <td>[0.0, 0.0, 0.0, 0.0, 0.0, 0.0, 0.0, 0.0, 0.0, ...</td>\n",
       "      <td>[0.0, 0.0, 0.0, 0.0, 0.0, 0.0, 0.0, 0.0, 0.0, ...</td>\n",
       "      <td>[0.0, 0.0, 0.0, 0.0, 0.0, 0.0, 0.0, 0.0, 0.0, ...</td>\n",
       "    </tr>\n",
       "  </tbody>\n",
       "</table>\n",
       "</div>"
      ],
      "text/plain": [
       "    amazon_id                                        amazon_name  \\\n",
       "0  b0009hl34q                            tropico pirate cove mac   \n",
       "1  b000cpshfs                                 everquest titanium   \n",
       "2  b000edvrtq                          station access collection   \n",
       "3  b000cpshfs                                 everquest titanium   \n",
       "4  b000edvrtq                          station access collection   \n",
       "5  b000g80lqo       peachtree sage premium accounting nonprofits   \n",
       "6  b000g7wses  peachtree sage premium accounting manufacturin...   \n",
       "7  b000g80lku  peachtree sage premium accounting accountants ...   \n",
       "8  b000gb1xfo                  peachtree sage premium accounting   \n",
       "9  b000gb0m7y                      peachtree sage pro accounting   \n",
       "\n",
       "                                  amazon_description     amazon_manufacturer  \\\n",
       "0  tropico pirate cove ruler land full scurvy sea...           destineer inc   \n",
       "1  includes original everquest ten expansion pack...  sony creative software   \n",
       "2  really want jump online massive gaming experie...  sony creative software   \n",
       "3  includes original everquest ten expansion pack...  sony creative software   \n",
       "4  really want jump online massive gaming experie...  sony creative software   \n",
       "5  peachtree premium accounting nonprofits afford...           sage software   \n",
       "6                        peachtree prem manufact mup           sage software   \n",
       "7  peachtree premium accounting accountants editi...           sage software   \n",
       "8  peachtree premium accounting comprehensive sol...           sage software   \n",
       "9  looking complement business operations robust ...           sage software   \n",
       "\n",
       "                                           google_id  \\\n",
       "0  http://www.google.com/base/feeds/snippets/1842...   \n",
       "1  http://www.google.com/base/feeds/snippets/1299...   \n",
       "2  http://www.google.com/base/feeds/snippets/1299...   \n",
       "3  http://www.google.com/base/feeds/snippets/1195...   \n",
       "4  http://www.google.com/base/feeds/snippets/1195...   \n",
       "5  http://www.google.com/base/feeds/snippets/1605...   \n",
       "6  http://www.google.com/base/feeds/snippets/1605...   \n",
       "7  http://www.google.com/base/feeds/snippets/1605...   \n",
       "8  http://www.google.com/base/feeds/snippets/1605...   \n",
       "9  http://www.google.com/base/feeds/snippets/1605...   \n",
       "\n",
       "                        google_name  \\\n",
       "0  destineer inc scrabble mac later   \n",
       "1        vegas movie studiodvd plat   \n",
       "2        vegas movie studiodvd plat   \n",
       "3     digital video audio prod book   \n",
       "4     digital video audio prod book   \n",
       "5      sage software acts2005rt act   \n",
       "6      sage software acts2005rt act   \n",
       "7      sage software acts2005rt act   \n",
       "8      sage software acts2005rt act   \n",
       "9      sage software acts2005rt act   \n",
       "\n",
       "                                  google_description     google_manufacturer  \\\n",
       "0  play one eight challenging computer opponents ...           destineer inc   \n",
       "1  sony media software vegas movie studio dvd pla...  sony creative software   \n",
       "2  sony media software vegas movie studio dvd pla...  sony creative software   \n",
       "3  hands guide creating rich multimedia vegas sof...  sony creative software   \n",
       "4  hands guide creating rich multimedia vegas sof...  sony creative software   \n",
       "5  act designed windows xp server server organize...           sage software   \n",
       "6  act designed windows xp server server organize...           sage software   \n",
       "7  act designed windows xp server server organize...           sage software   \n",
       "8  act designed windows xp server server organize...           sage software   \n",
       "9  act designed windows xp server server organize...           sage software   \n",
       "\n",
       "                                   amazon_name_tfidf  \\\n",
       "0  [0.0, 0.0, 0.0, 0.0, 0.0, 0.0, 0.0, 0.0, 0.0, ...   \n",
       "1  [0.0, 0.0, 0.0, 0.0, 0.0, 0.0, 0.0, 0.0, 0.0, ...   \n",
       "2  [0.0, 0.0, 0.0, 0.0, 0.0, 0.0, 0.0, 0.0, 0.0, ...   \n",
       "3  [0.0, 0.0, 0.0, 0.0, 0.0, 0.0, 0.0, 0.0, 0.0, ...   \n",
       "4  [0.0, 0.0, 0.0, 0.0, 0.0, 0.0, 0.0, 0.0, 0.0, ...   \n",
       "5  [0.0, 0.0, 0.0, 0.0, 0.0, 0.0, 0.0, 0.0, 0.0, ...   \n",
       "6  [0.0, 0.0, 0.0, 0.0, 0.0, 0.0, 0.0, 0.0, 0.0, ...   \n",
       "7  [0.0, 0.0, 0.0, 0.0, 0.0, 0.0, 0.0, 0.0, 0.0, ...   \n",
       "8  [0.0, 0.0, 0.0, 0.0, 0.0, 0.0, 0.0, 0.0, 0.0, ...   \n",
       "9  [0.0, 0.0, 0.0, 0.0, 0.0, 0.0, 0.0, 0.0, 0.0, ...   \n",
       "\n",
       "                                   google_name_tfidf  \\\n",
       "0  [0.0, 0.0, 0.0, 0.0, 0.0, 0.0, 0.0, 0.0, 0.0, ...   \n",
       "1  [0.0, 0.0, 0.0, 0.0, 0.0, 0.0, 0.0, 0.0, 0.0, ...   \n",
       "2  [0.0, 0.0, 0.0, 0.0, 0.0, 0.0, 0.0, 0.0, 0.0, ...   \n",
       "3  [0.0, 0.0, 0.0, 0.0, 0.0, 0.0, 0.0, 0.0, 0.0, ...   \n",
       "4  [0.0, 0.0, 0.0, 0.0, 0.0, 0.0, 0.0, 0.0, 0.0, ...   \n",
       "5  [0.0, 0.0, 0.0, 0.0, 0.0, 0.0, 0.0, 0.0, 0.0, ...   \n",
       "6  [0.0, 0.0, 0.0, 0.0, 0.0, 0.0, 0.0, 0.0, 0.0, ...   \n",
       "7  [0.0, 0.0, 0.0, 0.0, 0.0, 0.0, 0.0, 0.0, 0.0, ...   \n",
       "8  [0.0, 0.0, 0.0, 0.0, 0.0, 0.0, 0.0, 0.0, 0.0, ...   \n",
       "9  [0.0, 0.0, 0.0, 0.0, 0.0, 0.0, 0.0, 0.0, 0.0, ...   \n",
       "\n",
       "                           amazon_manufacturer_tfidf  \\\n",
       "0  [0.0, 0.0, 0.0, 0.0, 0.0, 0.0, 0.0, 0.0, 0.0, ...   \n",
       "1  [0.0, 0.0, 0.0, 0.0, 0.0, 0.0, 0.0, 0.0, 0.0, ...   \n",
       "2  [0.0, 0.0, 0.0, 0.0, 0.0, 0.0, 0.0, 0.0, 0.0, ...   \n",
       "3  [0.0, 0.0, 0.0, 0.0, 0.0, 0.0, 0.0, 0.0, 0.0, ...   \n",
       "4  [0.0, 0.0, 0.0, 0.0, 0.0, 0.0, 0.0, 0.0, 0.0, ...   \n",
       "5  [0.0, 0.0, 0.0, 0.0, 0.0, 0.0, 0.0, 0.0, 0.0, ...   \n",
       "6  [0.0, 0.0, 0.0, 0.0, 0.0, 0.0, 0.0, 0.0, 0.0, ...   \n",
       "7  [0.0, 0.0, 0.0, 0.0, 0.0, 0.0, 0.0, 0.0, 0.0, ...   \n",
       "8  [0.0, 0.0, 0.0, 0.0, 0.0, 0.0, 0.0, 0.0, 0.0, ...   \n",
       "9  [0.0, 0.0, 0.0, 0.0, 0.0, 0.0, 0.0, 0.0, 0.0, ...   \n",
       "\n",
       "                           google_manufacturer_tfidf  \\\n",
       "0  [0.0, 0.0, 0.0, 0.0, 0.0, 0.0, 0.0, 0.0, 0.0, ...   \n",
       "1  [0.0, 0.0, 0.0, 0.0, 0.0, 0.0, 0.0, 0.0, 0.0, ...   \n",
       "2  [0.0, 0.0, 0.0, 0.0, 0.0, 0.0, 0.0, 0.0, 0.0, ...   \n",
       "3  [0.0, 0.0, 0.0, 0.0, 0.0, 0.0, 0.0, 0.0, 0.0, ...   \n",
       "4  [0.0, 0.0, 0.0, 0.0, 0.0, 0.0, 0.0, 0.0, 0.0, ...   \n",
       "5  [0.0, 0.0, 0.0, 0.0, 0.0, 0.0, 0.0, 0.0, 0.0, ...   \n",
       "6  [0.0, 0.0, 0.0, 0.0, 0.0, 0.0, 0.0, 0.0, 0.0, ...   \n",
       "7  [0.0, 0.0, 0.0, 0.0, 0.0, 0.0, 0.0, 0.0, 0.0, ...   \n",
       "8  [0.0, 0.0, 0.0, 0.0, 0.0, 0.0, 0.0, 0.0, 0.0, ...   \n",
       "9  [0.0, 0.0, 0.0, 0.0, 0.0, 0.0, 0.0, 0.0, 0.0, ...   \n",
       "\n",
       "                            amazon_description_tfidf  \\\n",
       "0  [0.0, 0.0, 0.0, 0.0, 0.0, 0.0, 0.0, 0.0, 0.0, ...   \n",
       "1  [0.0, 0.0, 0.0, 0.0, 0.0, 0.0, 0.0, 0.0, 0.0, ...   \n",
       "2  [0.0, 0.0, 0.0, 0.0, 0.0, 0.0, 0.0, 0.0, 0.0, ...   \n",
       "3  [0.0, 0.0, 0.0, 0.0, 0.0, 0.0, 0.0, 0.0, 0.0, ...   \n",
       "4  [0.0, 0.0, 0.0, 0.0, 0.0, 0.0, 0.0, 0.0, 0.0, ...   \n",
       "5  [0.0, 0.0, 0.0, 0.0, 0.0, 0.0, 0.0, 0.0, 0.0, ...   \n",
       "6  [0.0, 0.0, 0.0, 0.0, 0.0, 0.0, 0.0, 0.0, 0.0, ...   \n",
       "7  [0.0, 0.0, 0.0, 0.0, 0.0, 0.0, 0.0, 0.0, 0.0, ...   \n",
       "8  [0.0, 0.0, 0.0, 0.0, 0.0, 0.0, 0.0, 0.0, 0.0, ...   \n",
       "9  [0.0, 0.0, 0.0, 0.0, 0.0, 0.0, 0.0, 0.0, 0.0, ...   \n",
       "\n",
       "                            google_description_tfidf  \n",
       "0  [0.0, 0.0, 0.0, 0.0, 0.0, 0.0, 0.0, 0.0, 0.0, ...  \n",
       "1  [0.0, 0.0, 0.0, 0.0, 0.0, 0.0, 0.0, 0.0, 0.0, ...  \n",
       "2  [0.0, 0.0, 0.0, 0.0, 0.0, 0.0, 0.0, 0.0, 0.0, ...  \n",
       "3  [0.0, 0.0, 0.0, 0.0, 0.0, 0.0, 0.0, 0.0, 0.0, ...  \n",
       "4  [0.0, 0.0, 0.0, 0.0, 0.0, 0.0, 0.0, 0.0, 0.0, ...  \n",
       "5  [0.0, 0.0, 0.0, 0.0, 0.0, 0.0, 0.0, 0.0, 0.0, ...  \n",
       "6  [0.0, 0.0, 0.0, 0.0, 0.0, 0.0, 0.0, 0.0, 0.0, ...  \n",
       "7  [0.0, 0.0, 0.0, 0.0, 0.0, 0.0, 0.0, 0.0, 0.0, ...  \n",
       "8  [0.0, 0.0, 0.0, 0.0, 0.0, 0.0, 0.0, 0.0, 0.0, ...  \n",
       "9  [0.0, 0.0, 0.0, 0.0, 0.0, 0.0, 0.0, 0.0, 0.0, ...  "
      ]
     },
     "execution_count": 73,
     "metadata": {},
     "output_type": "execute_result"
    }
   ],
   "source": [
    "def tfidf_transform_2(df, column, column2):\n",
    "    vectorizer = TfidfVectorizer()\n",
    "    tfidf = vectorizer.fit_transform(df[column])\n",
    "    tfidf_2 = vectorizer.transform(df[column2])\n",
    "\n",
    "    t_list=[]\n",
    "    t_array=tfidf.toarray()\n",
    "    #v=vectorizer.vocabulary_\n",
    "    for x in range(tfidf.shape[0]):\n",
    "        new=t_array[x]\n",
    "        t_list.append(new)\n",
    "    \n",
    "    t2_list=[]\n",
    "    t2_array=tfidf_2.toarray()\n",
    "    #v=vectorizer.vocabulary_\n",
    "    for x in range(tfidf_2.shape[0]):\n",
    "        new2=t2_array[x]\n",
    "        t2_list.append(new2)\n",
    "    \n",
    "    return t_list, t2_list\n",
    "\n",
    "\n",
    "candidate_pairs[\"amazon_name_tfidf\"],candidate_pairs[\"google_name_tfidf\"] = tfidf_transform_2(candidate_pairs, \"amazon_name\",\"google_name\")\n",
    "candidate_pairs[\"amazon_manufacturer_tfidf\"],candidate_pairs[\"google_manufacturer_tfidf\"] = tfidf_transform_2(candidate_pairs, \"amazon_manufacturer\",\"google_manufacturer\")\n",
    "candidate_pairs[\"amazon_description_tfidf\"],candidate_pairs[\"google_description_tfidf\"] = tfidf_transform_2(candidate_pairs, \"amazon_description\",\"google_description\")\n",
    "candidate_pairs.head(10)\n"
   ]
  },
  {
   "cell_type": "markdown",
   "id": "012b51c2",
   "metadata": {},
   "source": [
    "**3.3**:Unfortunately, similarity functions are not perfect in practice. For the candidate set you computed in 3.1, calculate similarity scores for each candidate pair formed by: \n",
    "\n",
    "(i)  computing  the Cosine Similarity measure between each of the corresponding 'name_tfidf', 'description_tfidf', and 'manufacturer_tfidf' fields in the two records (leading to three cosine sim. scores); \n",
    "\n",
    "(ii)  average the three scores to yield a single composite ‘similarity’ score.\n",
    "\n",
    "\n",
    "Next, we must compute a ‘threshold’ in [0,1], such that for pairs with score >= the threshold, the pair is predicted to be a duplicate; otherwise, the pair is deemed to be a non-duplicate. Consider potential thresholds at increments of 0.1, starting from 0 and ending at 1. At what threshold(s) is the F-measure optimized, and what is the optimized F-measure?\n"
   ]
  },
  {
   "cell_type": "code",
   "execution_count": 74,
   "id": "f8b2f7f8",
   "metadata": {},
   "outputs": [],
   "source": [
    "from sklearn.metrics import f1_score"
   ]
  },
  {
   "cell_type": "code",
   "execution_count": 75,
   "id": "744dfe2e",
   "metadata": {},
   "outputs": [],
   "source": [
    "def cosine_similarity(vector1, vector2):\n",
    "    similarity = np.dot(vector1, vector2)\n",
    "    normalized_vector1 = np.linalg.norm(vector1)\n",
    "    normalized_vector2 = np.linalg.norm(vector2)\n",
    "\n",
    "    similarity = similarity/normalized_vector1 * normalized_vector2\n",
    "    return similarity"
   ]
  },
  {
   "cell_type": "code",
   "execution_count": 76,
   "id": "41918bb6",
   "metadata": {},
   "outputs": [
    {
     "name": "stderr",
     "output_type": "stream",
     "text": [
      "C:\\Users\\royer\\AppData\\Local\\Temp\\ipykernel_18060\\460113588.py:6: RuntimeWarning: invalid value encountered in scalar divide\n",
      "  similarity = similarity/normalized_vector1 * normalized_vector2\n"
     ]
    }
   ],
   "source": [
    "candidate_pairs[\"name_cos\"]=candidate_pairs.apply(lambda x: cosine_similarity(x[\"amazon_name_tfidf\"], x[\"google_name_tfidf\"]),axis=1)\n",
    "candidate_pairs[\"manufacturer_cos\"]=candidate_pairs.apply(lambda x: cosine_similarity(x[\"amazon_manufacturer_tfidf\"], x[\"google_manufacturer_tfidf\"]),axis=1)\n",
    "candidate_pairs[\"description_cos\"]=candidate_pairs.apply(lambda x: cosine_similarity(x[\"amazon_description_tfidf\"], x[\"google_description_tfidf\"]),axis=1)\n",
    "candidate_pairs[\"similarity\"]=(candidate_pairs[\"name_cos\"]+candidate_pairs[\"manufacturer_cos\"]+candidate_pairs[\"description_cos\"])/3"
   ]
  },
  {
   "cell_type": "code",
   "execution_count": 77,
   "id": "4a6962b6",
   "metadata": {},
   "outputs": [
    {
     "data": {
      "text/html": [
       "<div>\n",
       "<style scoped>\n",
       "    .dataframe tbody tr th:only-of-type {\n",
       "        vertical-align: middle;\n",
       "    }\n",
       "\n",
       "    .dataframe tbody tr th {\n",
       "        vertical-align: top;\n",
       "    }\n",
       "\n",
       "    .dataframe thead th {\n",
       "        text-align: right;\n",
       "    }\n",
       "</style>\n",
       "<table border=\"1\" class=\"dataframe\">\n",
       "  <thead>\n",
       "    <tr style=\"text-align: right;\">\n",
       "      <th></th>\n",
       "      <th>amazon_id</th>\n",
       "      <th>amazon_name</th>\n",
       "      <th>amazon_description</th>\n",
       "      <th>amazon_manufacturer</th>\n",
       "      <th>google_id</th>\n",
       "      <th>google_name</th>\n",
       "      <th>google_description</th>\n",
       "      <th>google_manufacturer</th>\n",
       "      <th>amazon_name_tfidf</th>\n",
       "      <th>google_name_tfidf</th>\n",
       "      <th>amazon_manufacturer_tfidf</th>\n",
       "      <th>google_manufacturer_tfidf</th>\n",
       "      <th>amazon_description_tfidf</th>\n",
       "      <th>google_description_tfidf</th>\n",
       "      <th>name_cos</th>\n",
       "      <th>manufacturer_cos</th>\n",
       "      <th>description_cos</th>\n",
       "      <th>similarity</th>\n",
       "    </tr>\n",
       "  </thead>\n",
       "  <tbody>\n",
       "    <tr>\n",
       "      <th>0</th>\n",
       "      <td>b0009hl34q</td>\n",
       "      <td>tropico pirate cove mac</td>\n",
       "      <td>tropico pirate cove ruler land full scurvy sea...</td>\n",
       "      <td>destineer inc</td>\n",
       "      <td>http://www.google.com/base/feeds/snippets/1842...</td>\n",
       "      <td>destineer inc scrabble mac later</td>\n",
       "      <td>play one eight challenging computer opponents ...</td>\n",
       "      <td>destineer inc</td>\n",
       "      <td>[0.0, 0.0, 0.0, 0.0, 0.0, 0.0, 0.0, 0.0, 0.0, ...</td>\n",
       "      <td>[0.0, 0.0, 0.0, 0.0, 0.0, 0.0, 0.0, 0.0, 0.0, ...</td>\n",
       "      <td>[0.0, 0.0, 0.0, 0.0, 0.0, 0.0, 0.0, 0.0, 0.0, ...</td>\n",
       "      <td>[0.0, 0.0, 0.0, 0.0, 0.0, 0.0, 0.0, 0.0, 0.0, ...</td>\n",
       "      <td>[0.0, 0.0, 0.0, 0.0, 0.0, 0.0, 0.0, 0.0, 0.0, ...</td>\n",
       "      <td>[0.0, 0.0, 0.0, 0.0, 0.0, 0.0, 0.0, 0.0, 0.0, ...</td>\n",
       "      <td>0.087972</td>\n",
       "      <td>1.0</td>\n",
       "      <td>0.000000</td>\n",
       "      <td>0.362657</td>\n",
       "    </tr>\n",
       "    <tr>\n",
       "      <th>1</th>\n",
       "      <td>b000cpshfs</td>\n",
       "      <td>everquest titanium</td>\n",
       "      <td>includes original everquest ten expansion pack...</td>\n",
       "      <td>sony creative software</td>\n",
       "      <td>http://www.google.com/base/feeds/snippets/1299...</td>\n",
       "      <td>vegas movie studiodvd plat</td>\n",
       "      <td>sony media software vegas movie studio dvd pla...</td>\n",
       "      <td>sony creative software</td>\n",
       "      <td>[0.0, 0.0, 0.0, 0.0, 0.0, 0.0, 0.0, 0.0, 0.0, ...</td>\n",
       "      <td>[0.0, 0.0, 0.0, 0.0, 0.0, 0.0, 0.0, 0.0, 0.0, ...</td>\n",
       "      <td>[0.0, 0.0, 0.0, 0.0, 0.0, 0.0, 0.0, 0.0, 0.0, ...</td>\n",
       "      <td>[0.0, 0.0, 0.0, 0.0, 0.0, 0.0, 0.0, 0.0, 0.0, ...</td>\n",
       "      <td>[0.0, 0.0, 0.0, 0.0, 0.0, 0.0, 0.0, 0.0, 0.0, ...</td>\n",
       "      <td>[0.0, 0.0, 0.0, 0.0, 0.0, 0.0, 0.0, 0.0, 0.0, ...</td>\n",
       "      <td>0.000000</td>\n",
       "      <td>1.0</td>\n",
       "      <td>0.000000</td>\n",
       "      <td>0.333333</td>\n",
       "    </tr>\n",
       "    <tr>\n",
       "      <th>2</th>\n",
       "      <td>b000edvrtq</td>\n",
       "      <td>station access collection</td>\n",
       "      <td>really want jump online massive gaming experie...</td>\n",
       "      <td>sony creative software</td>\n",
       "      <td>http://www.google.com/base/feeds/snippets/1299...</td>\n",
       "      <td>vegas movie studiodvd plat</td>\n",
       "      <td>sony media software vegas movie studio dvd pla...</td>\n",
       "      <td>sony creative software</td>\n",
       "      <td>[0.0, 0.0, 0.0, 0.0, 0.0, 0.0, 0.0, 0.0, 0.0, ...</td>\n",
       "      <td>[0.0, 0.0, 0.0, 0.0, 0.0, 0.0, 0.0, 0.0, 0.0, ...</td>\n",
       "      <td>[0.0, 0.0, 0.0, 0.0, 0.0, 0.0, 0.0, 0.0, 0.0, ...</td>\n",
       "      <td>[0.0, 0.0, 0.0, 0.0, 0.0, 0.0, 0.0, 0.0, 0.0, ...</td>\n",
       "      <td>[0.0, 0.0, 0.0, 0.0, 0.0, 0.0, 0.0, 0.0, 0.0, ...</td>\n",
       "      <td>[0.0, 0.0, 0.0, 0.0, 0.0, 0.0, 0.0, 0.0, 0.0, ...</td>\n",
       "      <td>0.000000</td>\n",
       "      <td>1.0</td>\n",
       "      <td>0.016164</td>\n",
       "      <td>0.338721</td>\n",
       "    </tr>\n",
       "    <tr>\n",
       "      <th>3</th>\n",
       "      <td>b000cpshfs</td>\n",
       "      <td>everquest titanium</td>\n",
       "      <td>includes original everquest ten expansion pack...</td>\n",
       "      <td>sony creative software</td>\n",
       "      <td>http://www.google.com/base/feeds/snippets/1195...</td>\n",
       "      <td>digital video audio prod book</td>\n",
       "      <td>hands guide creating rich multimedia vegas sof...</td>\n",
       "      <td>sony creative software</td>\n",
       "      <td>[0.0, 0.0, 0.0, 0.0, 0.0, 0.0, 0.0, 0.0, 0.0, ...</td>\n",
       "      <td>[0.0, 0.0, 0.0, 0.0, 0.0, 0.0, 0.0, 0.0, 0.0, ...</td>\n",
       "      <td>[0.0, 0.0, 0.0, 0.0, 0.0, 0.0, 0.0, 0.0, 0.0, ...</td>\n",
       "      <td>[0.0, 0.0, 0.0, 0.0, 0.0, 0.0, 0.0, 0.0, 0.0, ...</td>\n",
       "      <td>[0.0, 0.0, 0.0, 0.0, 0.0, 0.0, 0.0, 0.0, 0.0, ...</td>\n",
       "      <td>[0.0, 0.0, 0.0, 0.0, 0.0, 0.0, 0.0, 0.0, 0.0, ...</td>\n",
       "      <td>0.000000</td>\n",
       "      <td>1.0</td>\n",
       "      <td>0.000000</td>\n",
       "      <td>0.333333</td>\n",
       "    </tr>\n",
       "    <tr>\n",
       "      <th>4</th>\n",
       "      <td>b000edvrtq</td>\n",
       "      <td>station access collection</td>\n",
       "      <td>really want jump online massive gaming experie...</td>\n",
       "      <td>sony creative software</td>\n",
       "      <td>http://www.google.com/base/feeds/snippets/1195...</td>\n",
       "      <td>digital video audio prod book</td>\n",
       "      <td>hands guide creating rich multimedia vegas sof...</td>\n",
       "      <td>sony creative software</td>\n",
       "      <td>[0.0, 0.0, 0.0, 0.0, 0.0, 0.0, 0.0, 0.0, 0.0, ...</td>\n",
       "      <td>[0.0, 0.0, 0.0, 0.0, 0.0, 0.0, 0.0, 0.0, 0.0, ...</td>\n",
       "      <td>[0.0, 0.0, 0.0, 0.0, 0.0, 0.0, 0.0, 0.0, 0.0, ...</td>\n",
       "      <td>[0.0, 0.0, 0.0, 0.0, 0.0, 0.0, 0.0, 0.0, 0.0, ...</td>\n",
       "      <td>[0.0, 0.0, 0.0, 0.0, 0.0, 0.0, 0.0, 0.0, 0.0, ...</td>\n",
       "      <td>[0.0, 0.0, 0.0, 0.0, 0.0, 0.0, 0.0, 0.0, 0.0, ...</td>\n",
       "      <td>0.000000</td>\n",
       "      <td>1.0</td>\n",
       "      <td>0.008318</td>\n",
       "      <td>0.336106</td>\n",
       "    </tr>\n",
       "  </tbody>\n",
       "</table>\n",
       "</div>"
      ],
      "text/plain": [
       "    amazon_id                amazon_name  \\\n",
       "0  b0009hl34q    tropico pirate cove mac   \n",
       "1  b000cpshfs         everquest titanium   \n",
       "2  b000edvrtq  station access collection   \n",
       "3  b000cpshfs         everquest titanium   \n",
       "4  b000edvrtq  station access collection   \n",
       "\n",
       "                                  amazon_description     amazon_manufacturer  \\\n",
       "0  tropico pirate cove ruler land full scurvy sea...           destineer inc   \n",
       "1  includes original everquest ten expansion pack...  sony creative software   \n",
       "2  really want jump online massive gaming experie...  sony creative software   \n",
       "3  includes original everquest ten expansion pack...  sony creative software   \n",
       "4  really want jump online massive gaming experie...  sony creative software   \n",
       "\n",
       "                                           google_id  \\\n",
       "0  http://www.google.com/base/feeds/snippets/1842...   \n",
       "1  http://www.google.com/base/feeds/snippets/1299...   \n",
       "2  http://www.google.com/base/feeds/snippets/1299...   \n",
       "3  http://www.google.com/base/feeds/snippets/1195...   \n",
       "4  http://www.google.com/base/feeds/snippets/1195...   \n",
       "\n",
       "                        google_name  \\\n",
       "0  destineer inc scrabble mac later   \n",
       "1        vegas movie studiodvd plat   \n",
       "2        vegas movie studiodvd plat   \n",
       "3     digital video audio prod book   \n",
       "4     digital video audio prod book   \n",
       "\n",
       "                                  google_description     google_manufacturer  \\\n",
       "0  play one eight challenging computer opponents ...           destineer inc   \n",
       "1  sony media software vegas movie studio dvd pla...  sony creative software   \n",
       "2  sony media software vegas movie studio dvd pla...  sony creative software   \n",
       "3  hands guide creating rich multimedia vegas sof...  sony creative software   \n",
       "4  hands guide creating rich multimedia vegas sof...  sony creative software   \n",
       "\n",
       "                                   amazon_name_tfidf  \\\n",
       "0  [0.0, 0.0, 0.0, 0.0, 0.0, 0.0, 0.0, 0.0, 0.0, ...   \n",
       "1  [0.0, 0.0, 0.0, 0.0, 0.0, 0.0, 0.0, 0.0, 0.0, ...   \n",
       "2  [0.0, 0.0, 0.0, 0.0, 0.0, 0.0, 0.0, 0.0, 0.0, ...   \n",
       "3  [0.0, 0.0, 0.0, 0.0, 0.0, 0.0, 0.0, 0.0, 0.0, ...   \n",
       "4  [0.0, 0.0, 0.0, 0.0, 0.0, 0.0, 0.0, 0.0, 0.0, ...   \n",
       "\n",
       "                                   google_name_tfidf  \\\n",
       "0  [0.0, 0.0, 0.0, 0.0, 0.0, 0.0, 0.0, 0.0, 0.0, ...   \n",
       "1  [0.0, 0.0, 0.0, 0.0, 0.0, 0.0, 0.0, 0.0, 0.0, ...   \n",
       "2  [0.0, 0.0, 0.0, 0.0, 0.0, 0.0, 0.0, 0.0, 0.0, ...   \n",
       "3  [0.0, 0.0, 0.0, 0.0, 0.0, 0.0, 0.0, 0.0, 0.0, ...   \n",
       "4  [0.0, 0.0, 0.0, 0.0, 0.0, 0.0, 0.0, 0.0, 0.0, ...   \n",
       "\n",
       "                           amazon_manufacturer_tfidf  \\\n",
       "0  [0.0, 0.0, 0.0, 0.0, 0.0, 0.0, 0.0, 0.0, 0.0, ...   \n",
       "1  [0.0, 0.0, 0.0, 0.0, 0.0, 0.0, 0.0, 0.0, 0.0, ...   \n",
       "2  [0.0, 0.0, 0.0, 0.0, 0.0, 0.0, 0.0, 0.0, 0.0, ...   \n",
       "3  [0.0, 0.0, 0.0, 0.0, 0.0, 0.0, 0.0, 0.0, 0.0, ...   \n",
       "4  [0.0, 0.0, 0.0, 0.0, 0.0, 0.0, 0.0, 0.0, 0.0, ...   \n",
       "\n",
       "                           google_manufacturer_tfidf  \\\n",
       "0  [0.0, 0.0, 0.0, 0.0, 0.0, 0.0, 0.0, 0.0, 0.0, ...   \n",
       "1  [0.0, 0.0, 0.0, 0.0, 0.0, 0.0, 0.0, 0.0, 0.0, ...   \n",
       "2  [0.0, 0.0, 0.0, 0.0, 0.0, 0.0, 0.0, 0.0, 0.0, ...   \n",
       "3  [0.0, 0.0, 0.0, 0.0, 0.0, 0.0, 0.0, 0.0, 0.0, ...   \n",
       "4  [0.0, 0.0, 0.0, 0.0, 0.0, 0.0, 0.0, 0.0, 0.0, ...   \n",
       "\n",
       "                            amazon_description_tfidf  \\\n",
       "0  [0.0, 0.0, 0.0, 0.0, 0.0, 0.0, 0.0, 0.0, 0.0, ...   \n",
       "1  [0.0, 0.0, 0.0, 0.0, 0.0, 0.0, 0.0, 0.0, 0.0, ...   \n",
       "2  [0.0, 0.0, 0.0, 0.0, 0.0, 0.0, 0.0, 0.0, 0.0, ...   \n",
       "3  [0.0, 0.0, 0.0, 0.0, 0.0, 0.0, 0.0, 0.0, 0.0, ...   \n",
       "4  [0.0, 0.0, 0.0, 0.0, 0.0, 0.0, 0.0, 0.0, 0.0, ...   \n",
       "\n",
       "                            google_description_tfidf  name_cos  \\\n",
       "0  [0.0, 0.0, 0.0, 0.0, 0.0, 0.0, 0.0, 0.0, 0.0, ...  0.087972   \n",
       "1  [0.0, 0.0, 0.0, 0.0, 0.0, 0.0, 0.0, 0.0, 0.0, ...  0.000000   \n",
       "2  [0.0, 0.0, 0.0, 0.0, 0.0, 0.0, 0.0, 0.0, 0.0, ...  0.000000   \n",
       "3  [0.0, 0.0, 0.0, 0.0, 0.0, 0.0, 0.0, 0.0, 0.0, ...  0.000000   \n",
       "4  [0.0, 0.0, 0.0, 0.0, 0.0, 0.0, 0.0, 0.0, 0.0, ...  0.000000   \n",
       "\n",
       "   manufacturer_cos  description_cos  similarity  \n",
       "0               1.0         0.000000    0.362657  \n",
       "1               1.0         0.000000    0.333333  \n",
       "2               1.0         0.016164    0.338721  \n",
       "3               1.0         0.000000    0.333333  \n",
       "4               1.0         0.008318    0.336106  "
      ]
     },
     "execution_count": 77,
     "metadata": {},
     "output_type": "execute_result"
    }
   ],
   "source": [
    "candidate_pairs.head(5)"
   ]
  },
  {
   "cell_type": "code",
   "execution_count": 81,
   "id": "bfe9c3b1",
   "metadata": {},
   "outputs": [
    {
     "name": "stdout",
     "output_type": "stream",
     "text": [
      "threshold 0.1 , and the f1 score is 0.07527675276752768\n",
      "threshold 0.2 , and the f1 score is 0.07527675276752768\n",
      "threshold 0.3 , and the f1 score is 0.07527675276752768\n",
      "threshold 0.4 , and the f1 score is 0.12530712530712532\n",
      "threshold 0.5 , and the f1 score is 0.264367816091954\n",
      "threshold 0.6 , and the f1 score is 0.4596273291925466\n",
      "threshold 0.7 , and the f1 score is 0.26190476190476186\n",
      "threshold 0.8 , and the f1 score is 0.10526315789473684\n",
      "threshold 0.9 , and the f1 score is 0.03773584905660377\n",
      "threshold 1.0 , and the f1 score is 0.0\n"
     ]
    }
   ],
   "source": [
    "for thres in range(1, 11):\n",
    "    t=round(thres * 0.1,2)\n",
    "    pred_list=candidate_pairs.apply(lambda x: 1 if x[\"similarity\"] > t else 0, axis=1)\n",
    "    pred = pred_list\n",
    "    actual = candidate_pairs.apply(lambda x: 1 if ([x[\"amazon_id\"],x[\"google_id\"]]) in a_g_list else 0, axis=1)\n",
    "    print(\"threshold\",t,\", and the f1 score is\",f1_score(actual, pred))"
   ]
  },
  {
   "cell_type": "markdown",
   "metadata": {},
   "source": [
    "**A:** So when the threshold is 0.6, the optimized F-measure is 0.4596."
   ]
  },
  {
   "cell_type": "markdown",
   "id": "28883cb9",
   "metadata": {},
   "source": [
    "### Objective:\n",
    "In this follow-up assignment, you will build upon the entity resolution work from HW5. This time, you will incorporate additional similarity metrics and use machine learning models.\n",
    "\n",
    "### Datasets:\n",
    "You will continue to use the datasets from HW5:\n",
    "- Amazon.csv\n",
    "- Google.csv\n",
    "- Amazon_GoogleProducts_perfectMapping.csv\n",
    "\n"
   ]
  },
  {
   "cell_type": "markdown",
   "id": "9c31ff10",
   "metadata": {},
   "source": [
    "### Question 1: More blocking keys \n",
    "First, let’s repeat Question 3.2 and 3.3 in HW5, but using the other two blocking keys in Question 2 of HW5. What are their (threshold-optimized) F-measures and how do they compare to the answer in 3.2? Are the optimized thresholds different for each of the methods? **Please only consider blocking strategy 2 (Name Token Blocking)**\n"
   ]
  },
  {
   "cell_type": "markdown",
   "id": "99a3ecc9",
   "metadata": {},
   "source": [
    "For the remainder of the questions in HW6, assume the candidate set generated by the ***Name Token Blocking***"
   ]
  },
  {
   "cell_type": "code",
   "execution_count": 85,
   "id": "18abc06c",
   "metadata": {},
   "outputs": [],
   "source": [
    "common_name = df_name_compare_a[\"Key\"]\n",
    "namelist_can_pair=[]\n",
    "pair_list_name=[]\n",
    "for name in common_name:\n",
    "    # print(\"name\",name)\n",
    "    for i, x in enumerate((google[\"name_cleaned_token\"])):\n",
    "        if name in x:\n",
    "            g_id=google[\"id\"][i]\n",
    "            # print(\"g_id\",g_id)\n",
    "            for i_2, x_2 in enumerate(amazon[\"name_cleaned_token\"]):\n",
    "                if name in x_2:\n",
    "                    a_id=amazon[\"id\"][i_2]\n",
    "                    # print(\"a_id\",a_id)\n",
    "                    # print((a_id,g_id))\n",
    "                    pair_list_name.append((a_id,g_id,name))\n",
    "                    \n",
    "                    namelist_can_pair.append((a_id,amazon[\"name_cleaned\"][i_2], amazon[\"description_cleaned\"][i_2], amazon[\"manufacturer_cleaned\"][i_2],g_id,google[\"name_cleaned\"][i],google[\"description_cleaned\"][i],google[\"manufacturer_cleaned\"][i]))\n"
   ]
  },
  {
   "cell_type": "code",
   "execution_count": 90,
   "id": "10ef094d",
   "metadata": {},
   "outputs": [
    {
     "name": "stderr",
     "output_type": "stream",
     "text": [
      "C:\\Users\\royer\\AppData\\Local\\Temp\\ipykernel_18060\\460113588.py:6: RuntimeWarning: invalid value encountered in scalar divide\n",
      "  similarity = similarity/normalized_vector1 * normalized_vector2\n",
      "C:\\Users\\royer\\AppData\\Local\\Temp\\ipykernel_18060\\460113588.py:6: RuntimeWarning: invalid value encountered in scalar divide\n",
      "  similarity = similarity/normalized_vector1 * normalized_vector2\n"
     ]
    }
   ],
   "source": [
    "candidate_pairs_name=pd.DataFrame(namelist_can_pair,columns=[\"amazon_id\",\"amazon_name\",'amazon_description','amazon_manufacturer',\"google_id\",'google_name','google_description','google_manufacturer'])\n",
    "candidate_pairs_name[\"amazon_name_tfidf\"], candidate_pairs_name[\"google_name_tfidf\"] = tfidf_transform_2(candidate_pairs_name, \"amazon_name\",\"google_name\")\n",
    "candidate_pairs_name[\"amazon_manufacturer_tfidf\"],candidate_pairs_name[\"google_manufacturer_tfidf\"] = tfidf_transform_2(candidate_pairs_name, \"amazon_manufacturer\",\"google_manufacturer\")\n",
    "candidate_pairs_name[\"amazon_description_tfidf\"],candidate_pairs_name[\"google_description_tfidf\"] = tfidf_transform_2(candidate_pairs_name, \"amazon_description\",\"google_description\")\n",
    "candidate_pairs_name[\"name_cos\"]=candidate_pairs_name.apply(lambda x: cosine_similarity(x[\"amazon_name_tfidf\"], x[\"google_name_tfidf\"]),axis=1)\n",
    "candidate_pairs_name[\"name_cos\"]=candidate_pairs_name.apply(lambda x: 0 if math.isnan(x[\"name_cos\"]) else x[\"name_cos\"],axis=1)\n",
    "candidate_pairs_name[\"manufacturer_cos\"]=candidate_pairs_name.apply(lambda x: cosine_similarity(x[\"amazon_manufacturer_tfidf\"], x[\"google_manufacturer_tfidf\"]),axis=1)\n",
    "candidate_pairs_name[\"manufacturer_cos\"]=candidate_pairs_name.apply(lambda x: 0 if math.isnan(x[\"manufacturer_cos\"]) else x[\"manufacturer_cos\"],axis=1)\n",
    "candidate_pairs_name[\"description_cos\"]=candidate_pairs_name.apply(lambda x: cosine_similarity(x[\"amazon_description_tfidf\"], x[\"google_description_tfidf\"]),axis=1)\n",
    "candidate_pairs_name[\"description_cos\"]=candidate_pairs_name.apply(lambda x: 0 if math.isnan(x[\"description_cos\"]) else x[\"description_cos\"],axis=1)\n",
    "candidate_pairs_name[\"similarity\"]=(candidate_pairs_name[\"name_cos\"]+candidate_pairs_name[\"manufacturer_cos\"]+candidate_pairs_name[\"description_cos\"])/3"
   ]
  },
  {
   "cell_type": "code",
   "execution_count": 92,
   "id": "fea93f58",
   "metadata": {},
   "outputs": [
    {
     "name": "stdout",
     "output_type": "stream",
     "text": [
      "threshold 0.1 , and the f1 score is 0.25516934046345807\n",
      "threshold 0.2 , and the f1 score is 0.43504911591355594\n",
      "threshold 0.3 , and the f1 score is 0.5108616060532096\n",
      "threshold 0.4 , and the f1 score is 0.35915492957746475\n",
      "threshold 0.5 , and the f1 score is 0.19523684899241034\n",
      "threshold 0.6 , and the f1 score is 0.10773397532350286\n",
      "threshold 0.7 , and the f1 score is 0.0554089709762533\n",
      "threshold 0.8 , and the f1 score is 0.009668508287292817\n",
      "threshold 0.9 , and the f1 score is 0.003475842891901286\n",
      "threshold 1.0 , and the f1 score is 0.0\n"
     ]
    }
   ],
   "source": [
    "for thres in range(1, 11):\n",
    "    t=round(thres * 0.1,2)\n",
    "    pred_list=candidate_pairs_name.apply(lambda x: 1 if x[\"similarity\"] > t else 0, axis=1)\n",
    "    pred = pred_list\n",
    "    actual= candidate_pairs_name.apply(lambda x: 1 if ([x[\"amazon_id\"],x[\"google_id\"]]) in a_g_list else 0, axis=1)\n",
    "\n",
    "    print(\"threshold\",t,\", and the f1 score is\",f1_score(actual, pred))"
   ]
  },
  {
   "cell_type": "markdown",
   "metadata": {},
   "source": [
    "What are their (threshold-optimized) F-measures and how do they compare to the answer in 3.2?"
   ]
  },
  {
   "cell_type": "markdown",
   "metadata": {},
   "source": [
    "**A:** The optimized F-measures is around 0.51, and the threshold is 0.3. Compared on the answer in 3.3, name blocking strategy can achevie higher f-1 score"
   ]
  },
  {
   "cell_type": "markdown",
   "metadata": {},
   "source": [
    "Are the optimized thresholds different for each of the methods?"
   ]
  },
  {
   "cell_type": "markdown",
   "metadata": {},
   "source": [
    "**A:** Yes, the optimized thresholds from the manufactucer blocking strategy is different from the the optimized thresholds from the name blocking strategy"
   ]
  },
  {
   "cell_type": "markdown",
   "id": "06c5c96b",
   "metadata": {},
   "source": [
    "### Question 2: More Similarity Metrics"
   ]
  },
  {
   "cell_type": "markdown",
   "id": "a198dad6",
   "metadata": {},
   "source": [
    "We will now explore a different way of computing similarity between the two records in a candidate pair. Calculate the normalized Levenshtein similarity for each pair of fields in the candidate pair (hint: in class, we discussed a method for converting Levenshtein distance to normalized Levenshtein similarity, such that it lies in [0,1]). Create three more columns in the \"candidate_pairs\" DataFrame: 'name_lev', 'description_lev', 'manufacturer_lev‘. \n",
    "\n",
    "Print the first five rows of the new \"candidate_pairs\" DataFrame."
   ]
  },
  {
   "cell_type": "code",
   "execution_count": 93,
   "id": "a511014e",
   "metadata": {},
   "outputs": [],
   "source": [
    "from Levenshtein import distance as lev\n",
    "\n",
    "\n",
    "#Feel free to make adjustments to this function according to your needs.\n",
    "\n",
    "def calculate_levenshtein(row):\n",
    "    name_distance = lev(row['amazon_name'], row['google_name'])\n",
    "    description_distance = lev(row['amazon_description'], row['google_description'])\n",
    "    manufacturer_distance = lev(row['amazon_manufacturer'], row['google_manufacturer'])\n",
    "    return pd.Series([name_distance, description_distance, manufacturer_distance])\n"
   ]
  },
  {
   "cell_type": "code",
   "execution_count": 94,
   "id": "42848b78",
   "metadata": {},
   "outputs": [],
   "source": [
    "candidate_pairs_name_new=candidate_pairs_name.copy()\n",
    "\n",
    "for index,row in candidate_pairs_name_new.iterrows():\n",
    "    x=calculate_levenshtein(row)\n",
    "    candidate_pairs_name_new.at[index, \"name_lev\"] = x[0]\n",
    "    candidate_pairs_name_new.at[index, \"description_lev\"] = x[1]\n",
    "    candidate_pairs_name_new.at[index, \"manufacturer_lev\"] = x[2]\n"
   ]
  },
  {
   "cell_type": "code",
   "execution_count": 95,
   "id": "4380caf4",
   "metadata": {},
   "outputs": [
    {
     "data": {
      "text/html": [
       "<div>\n",
       "<style scoped>\n",
       "    .dataframe tbody tr th:only-of-type {\n",
       "        vertical-align: middle;\n",
       "    }\n",
       "\n",
       "    .dataframe tbody tr th {\n",
       "        vertical-align: top;\n",
       "    }\n",
       "\n",
       "    .dataframe thead th {\n",
       "        text-align: right;\n",
       "    }\n",
       "</style>\n",
       "<table border=\"1\" class=\"dataframe\">\n",
       "  <thead>\n",
       "    <tr style=\"text-align: right;\">\n",
       "      <th></th>\n",
       "      <th>amazon_id</th>\n",
       "      <th>amazon_name</th>\n",
       "      <th>amazon_description</th>\n",
       "      <th>amazon_manufacturer</th>\n",
       "      <th>google_id</th>\n",
       "      <th>google_name</th>\n",
       "      <th>google_description</th>\n",
       "      <th>google_manufacturer</th>\n",
       "      <th>amazon_name_tfidf</th>\n",
       "      <th>google_name_tfidf</th>\n",
       "      <th>...</th>\n",
       "      <th>google_manufacturer_tfidf</th>\n",
       "      <th>amazon_description_tfidf</th>\n",
       "      <th>google_description_tfidf</th>\n",
       "      <th>name_cos</th>\n",
       "      <th>manufacturer_cos</th>\n",
       "      <th>description_cos</th>\n",
       "      <th>similarity</th>\n",
       "      <th>name_lev</th>\n",
       "      <th>description_lev</th>\n",
       "      <th>manufacturer_lev</th>\n",
       "    </tr>\n",
       "  </thead>\n",
       "  <tbody>\n",
       "    <tr>\n",
       "      <th>0</th>\n",
       "      <td>b000hed3f8</td>\n",
       "      <td>brainfood games cranium collection</td>\n",
       "      <td>brain food games cranium collection back bette...</td>\n",
       "      <td>encore software</td>\n",
       "      <td>http://www.google.com/base/feeds/snippets/1344...</td>\n",
       "      <td>encore software brain food games cranium colle...</td>\n",
       "      <td>encore software brain food games cranium colle...</td>\n",
       "      <td></td>\n",
       "      <td>[0.0, 0.0, 0.0, 0.0, 0.0, 0.0, 0.0, 0.0, 0.0, ...</td>\n",
       "      <td>[0.0, 0.0, 0.0, 0.0, 0.0, 0.0, 0.0, 0.0, 0.0, ...</td>\n",
       "      <td>...</td>\n",
       "      <td>[0.0, 0.0, 0.0, 0.0, 0.0, 0.0, 0.0, 0.0, 0.0, ...</td>\n",
       "      <td>[0.0, 0.0, 0.0, 0.0, 0.0, 0.0, 0.0, 0.0, 0.0, ...</td>\n",
       "      <td>[0.0, 0.0, 0.0, 0.0, 0.0, 0.0, 0.0, 0.0, 0.0, ...</td>\n",
       "      <td>0.455047</td>\n",
       "      <td>0.0</td>\n",
       "      <td>0.444758</td>\n",
       "      <td>0.299935</td>\n",
       "      <td>24.0</td>\n",
       "      <td>1000.0</td>\n",
       "      <td>15.0</td>\n",
       "    </tr>\n",
       "    <tr>\n",
       "      <th>1</th>\n",
       "      <td>b000ie8u4g</td>\n",
       "      <td>brain food games cranium collection</td>\n",
       "      <td>back better ever full version games hoyle word...</td>\n",
       "      <td>encore</td>\n",
       "      <td>http://www.google.com/base/feeds/snippets/1344...</td>\n",
       "      <td>encore software brain food games cranium colle...</td>\n",
       "      <td>encore software brain food games cranium colle...</td>\n",
       "      <td></td>\n",
       "      <td>[0.0, 0.0, 0.0, 0.0, 0.0, 0.0, 0.0, 0.0, 0.0, ...</td>\n",
       "      <td>[0.0, 0.0, 0.0, 0.0, 0.0, 0.0, 0.0, 0.0, 0.0, ...</td>\n",
       "      <td>...</td>\n",
       "      <td>[0.0, 0.0, 0.0, 0.0, 0.0, 0.0, 0.0, 0.0, 0.0, ...</td>\n",
       "      <td>[0.0, 0.2269233453367697, 0.0, 0.0, 0.0, 0.0, ...</td>\n",
       "      <td>[0.0, 0.0, 0.0, 0.0, 0.0, 0.0, 0.0, 0.0, 0.0, ...</td>\n",
       "      <td>0.813427</td>\n",
       "      <td>0.0</td>\n",
       "      <td>0.272486</td>\n",
       "      <td>0.361971</td>\n",
       "      <td>23.0</td>\n",
       "      <td>992.0</td>\n",
       "      <td>6.0</td>\n",
       "    </tr>\n",
       "    <tr>\n",
       "      <th>2</th>\n",
       "      <td>b000io7a9m</td>\n",
       "      <td>brain food games cranium collection</td>\n",
       "      <td>brain food games cranium collection</td>\n",
       "      <td>encore</td>\n",
       "      <td>http://www.google.com/base/feeds/snippets/1344...</td>\n",
       "      <td>encore software brain food games cranium colle...</td>\n",
       "      <td>encore software brain food games cranium colle...</td>\n",
       "      <td></td>\n",
       "      <td>[0.0, 0.0, 0.0, 0.0, 0.0, 0.0, 0.0, 0.0, 0.0, ...</td>\n",
       "      <td>[0.0, 0.0, 0.0, 0.0, 0.0, 0.0, 0.0, 0.0, 0.0, ...</td>\n",
       "      <td>...</td>\n",
       "      <td>[0.0, 0.0, 0.0, 0.0, 0.0, 0.0, 0.0, 0.0, 0.0, ...</td>\n",
       "      <td>[0.0, 0.0, 0.0, 0.0, 0.0, 0.0, 0.0, 0.0, 0.0, ...</td>\n",
       "      <td>[0.0, 0.0, 0.0, 0.0, 0.0, 0.0, 0.0, 0.0, 0.0, ...</td>\n",
       "      <td>0.813427</td>\n",
       "      <td>0.0</td>\n",
       "      <td>0.610271</td>\n",
       "      <td>0.474566</td>\n",
       "      <td>23.0</td>\n",
       "      <td>161.0</td>\n",
       "      <td>6.0</td>\n",
       "    </tr>\n",
       "    <tr>\n",
       "      <th>3</th>\n",
       "      <td>b000hed3f8</td>\n",
       "      <td>brainfood games cranium collection</td>\n",
       "      <td>brain food games cranium collection back bette...</td>\n",
       "      <td>encore software</td>\n",
       "      <td>http://www.google.com/base/feeds/snippets/1730...</td>\n",
       "      <td>encore software brain food games cranium colle...</td>\n",
       "      <td>encore software brain food games cranium colle...</td>\n",
       "      <td></td>\n",
       "      <td>[0.0, 0.0, 0.0, 0.0, 0.0, 0.0, 0.0, 0.0, 0.0, ...</td>\n",
       "      <td>[0.0, 0.0, 0.0, 0.0, 0.0, 0.0, 0.0, 0.0, 0.0, ...</td>\n",
       "      <td>...</td>\n",
       "      <td>[0.0, 0.0, 0.0, 0.0, 0.0, 0.0, 0.0, 0.0, 0.0, ...</td>\n",
       "      <td>[0.0, 0.0, 0.0, 0.0, 0.0, 0.0, 0.0, 0.0, 0.0, ...</td>\n",
       "      <td>[0.0, 0.0, 0.0, 0.0, 0.0, 0.0, 0.0, 0.0, 0.0, ...</td>\n",
       "      <td>0.455047</td>\n",
       "      <td>0.0</td>\n",
       "      <td>0.444758</td>\n",
       "      <td>0.299935</td>\n",
       "      <td>24.0</td>\n",
       "      <td>1000.0</td>\n",
       "      <td>15.0</td>\n",
       "    </tr>\n",
       "    <tr>\n",
       "      <th>4</th>\n",
       "      <td>b000ie8u4g</td>\n",
       "      <td>brain food games cranium collection</td>\n",
       "      <td>back better ever full version games hoyle word...</td>\n",
       "      <td>encore</td>\n",
       "      <td>http://www.google.com/base/feeds/snippets/1730...</td>\n",
       "      <td>encore software brain food games cranium colle...</td>\n",
       "      <td>encore software brain food games cranium colle...</td>\n",
       "      <td></td>\n",
       "      <td>[0.0, 0.0, 0.0, 0.0, 0.0, 0.0, 0.0, 0.0, 0.0, ...</td>\n",
       "      <td>[0.0, 0.0, 0.0, 0.0, 0.0, 0.0, 0.0, 0.0, 0.0, ...</td>\n",
       "      <td>...</td>\n",
       "      <td>[0.0, 0.0, 0.0, 0.0, 0.0, 0.0, 0.0, 0.0, 0.0, ...</td>\n",
       "      <td>[0.0, 0.2269233453367697, 0.0, 0.0, 0.0, 0.0, ...</td>\n",
       "      <td>[0.0, 0.0, 0.0, 0.0, 0.0, 0.0, 0.0, 0.0, 0.0, ...</td>\n",
       "      <td>0.813427</td>\n",
       "      <td>0.0</td>\n",
       "      <td>0.272486</td>\n",
       "      <td>0.361971</td>\n",
       "      <td>23.0</td>\n",
       "      <td>992.0</td>\n",
       "      <td>6.0</td>\n",
       "    </tr>\n",
       "  </tbody>\n",
       "</table>\n",
       "<p>5 rows × 21 columns</p>\n",
       "</div>"
      ],
      "text/plain": [
       "    amazon_id                          amazon_name  \\\n",
       "0  b000hed3f8   brainfood games cranium collection   \n",
       "1  b000ie8u4g  brain food games cranium collection   \n",
       "2  b000io7a9m  brain food games cranium collection   \n",
       "3  b000hed3f8   brainfood games cranium collection   \n",
       "4  b000ie8u4g  brain food games cranium collection   \n",
       "\n",
       "                                  amazon_description amazon_manufacturer  \\\n",
       "0  brain food games cranium collection back bette...     encore software   \n",
       "1  back better ever full version games hoyle word...              encore   \n",
       "2                brain food games cranium collection              encore   \n",
       "3  brain food games cranium collection back bette...     encore software   \n",
       "4  back better ever full version games hoyle word...              encore   \n",
       "\n",
       "                                           google_id  \\\n",
       "0  http://www.google.com/base/feeds/snippets/1344...   \n",
       "1  http://www.google.com/base/feeds/snippets/1344...   \n",
       "2  http://www.google.com/base/feeds/snippets/1344...   \n",
       "3  http://www.google.com/base/feeds/snippets/1730...   \n",
       "4  http://www.google.com/base/feeds/snippets/1730...   \n",
       "\n",
       "                                         google_name  \\\n",
       "0  encore software brain food games cranium colle...   \n",
       "1  encore software brain food games cranium colle...   \n",
       "2  encore software brain food games cranium colle...   \n",
       "3  encore software brain food games cranium colle...   \n",
       "4  encore software brain food games cranium colle...   \n",
       "\n",
       "                                  google_description google_manufacturer  \\\n",
       "0  encore software brain food games cranium colle...                       \n",
       "1  encore software brain food games cranium colle...                       \n",
       "2  encore software brain food games cranium colle...                       \n",
       "3  encore software brain food games cranium colle...                       \n",
       "4  encore software brain food games cranium colle...                       \n",
       "\n",
       "                                   amazon_name_tfidf  \\\n",
       "0  [0.0, 0.0, 0.0, 0.0, 0.0, 0.0, 0.0, 0.0, 0.0, ...   \n",
       "1  [0.0, 0.0, 0.0, 0.0, 0.0, 0.0, 0.0, 0.0, 0.0, ...   \n",
       "2  [0.0, 0.0, 0.0, 0.0, 0.0, 0.0, 0.0, 0.0, 0.0, ...   \n",
       "3  [0.0, 0.0, 0.0, 0.0, 0.0, 0.0, 0.0, 0.0, 0.0, ...   \n",
       "4  [0.0, 0.0, 0.0, 0.0, 0.0, 0.0, 0.0, 0.0, 0.0, ...   \n",
       "\n",
       "                                   google_name_tfidf  ...  \\\n",
       "0  [0.0, 0.0, 0.0, 0.0, 0.0, 0.0, 0.0, 0.0, 0.0, ...  ...   \n",
       "1  [0.0, 0.0, 0.0, 0.0, 0.0, 0.0, 0.0, 0.0, 0.0, ...  ...   \n",
       "2  [0.0, 0.0, 0.0, 0.0, 0.0, 0.0, 0.0, 0.0, 0.0, ...  ...   \n",
       "3  [0.0, 0.0, 0.0, 0.0, 0.0, 0.0, 0.0, 0.0, 0.0, ...  ...   \n",
       "4  [0.0, 0.0, 0.0, 0.0, 0.0, 0.0, 0.0, 0.0, 0.0, ...  ...   \n",
       "\n",
       "                           google_manufacturer_tfidf  \\\n",
       "0  [0.0, 0.0, 0.0, 0.0, 0.0, 0.0, 0.0, 0.0, 0.0, ...   \n",
       "1  [0.0, 0.0, 0.0, 0.0, 0.0, 0.0, 0.0, 0.0, 0.0, ...   \n",
       "2  [0.0, 0.0, 0.0, 0.0, 0.0, 0.0, 0.0, 0.0, 0.0, ...   \n",
       "3  [0.0, 0.0, 0.0, 0.0, 0.0, 0.0, 0.0, 0.0, 0.0, ...   \n",
       "4  [0.0, 0.0, 0.0, 0.0, 0.0, 0.0, 0.0, 0.0, 0.0, ...   \n",
       "\n",
       "                            amazon_description_tfidf  \\\n",
       "0  [0.0, 0.0, 0.0, 0.0, 0.0, 0.0, 0.0, 0.0, 0.0, ...   \n",
       "1  [0.0, 0.2269233453367697, 0.0, 0.0, 0.0, 0.0, ...   \n",
       "2  [0.0, 0.0, 0.0, 0.0, 0.0, 0.0, 0.0, 0.0, 0.0, ...   \n",
       "3  [0.0, 0.0, 0.0, 0.0, 0.0, 0.0, 0.0, 0.0, 0.0, ...   \n",
       "4  [0.0, 0.2269233453367697, 0.0, 0.0, 0.0, 0.0, ...   \n",
       "\n",
       "                            google_description_tfidf  name_cos  \\\n",
       "0  [0.0, 0.0, 0.0, 0.0, 0.0, 0.0, 0.0, 0.0, 0.0, ...  0.455047   \n",
       "1  [0.0, 0.0, 0.0, 0.0, 0.0, 0.0, 0.0, 0.0, 0.0, ...  0.813427   \n",
       "2  [0.0, 0.0, 0.0, 0.0, 0.0, 0.0, 0.0, 0.0, 0.0, ...  0.813427   \n",
       "3  [0.0, 0.0, 0.0, 0.0, 0.0, 0.0, 0.0, 0.0, 0.0, ...  0.455047   \n",
       "4  [0.0, 0.0, 0.0, 0.0, 0.0, 0.0, 0.0, 0.0, 0.0, ...  0.813427   \n",
       "\n",
       "   manufacturer_cos  description_cos  similarity  name_lev  description_lev  \\\n",
       "0               0.0         0.444758    0.299935      24.0           1000.0   \n",
       "1               0.0         0.272486    0.361971      23.0            992.0   \n",
       "2               0.0         0.610271    0.474566      23.0            161.0   \n",
       "3               0.0         0.444758    0.299935      24.0           1000.0   \n",
       "4               0.0         0.272486    0.361971      23.0            992.0   \n",
       "\n",
       "   manufacturer_lev  \n",
       "0              15.0  \n",
       "1               6.0  \n",
       "2               6.0  \n",
       "3              15.0  \n",
       "4               6.0  \n",
       "\n",
       "[5 rows x 21 columns]"
      ]
     },
     "execution_count": 95,
     "metadata": {},
     "output_type": "execute_result"
    }
   ],
   "source": [
    "candidate_pairs_name_new.head(5)"
   ]
  },
  {
   "cell_type": "markdown",
   "id": "1b9ebb59",
   "metadata": {},
   "source": [
    "Refer to the `Amazon_GoogleProducts_perfectMapping.csv` file for the actual matches. Create a new column named 'match' in your \"candidate_pairs\" DataFrame. If a pair of records (in the candidate set) corresponds to a match i.e., is in the perfectMapping file, label it as 'yes' in the 'match' column. Otherwise, label it as 'no.' Note that, by design, most pairs will actually be no! Furthermore, not every pair in the perfectMapping will be included here. What is the number of ‘false negatives’ that are not included in your dataset? \n"
   ]
  },
  {
   "cell_type": "code",
   "execution_count": 97,
   "id": "176d0273",
   "metadata": {},
   "outputs": [
    {
     "data": {
      "text/plain": [
       "no     35766\n",
       "yes     2868\n",
       "Name: match, dtype: int64"
      ]
     },
     "execution_count": 97,
     "metadata": {},
     "output_type": "execute_result"
    }
   ],
   "source": [
    "candidate_pairs_name_new[\"match\"] = candidate_pairs_name_new.apply(lambda x: \"yes\" if ([x[\"amazon_id\"],x[\"google_id\"]]) in a_g_list else \"no\", axis=1)\n",
    "candidate_pairs_name_new[\"match\"].value_counts()"
   ]
  },
  {
   "cell_type": "markdown",
   "id": "301b7c23",
   "metadata": {},
   "source": [
    "### Question 3: Feature Engineering for Machine Learning"
   ]
  },
  {
   "cell_type": "markdown",
   "id": "9b00aeda",
   "metadata": {},
   "source": [
    "Prepare your feature matrix (X) and labels (y) for the machine learning model. \n",
    "\n",
    "Each row in X should correspond to a pair of records and contain the (i) three Levenshtein features calculated in Question 1; (ii) the three cosine similarity features you had computed earlier in HW5; and each entry in y should be the label indicating whether the pair of records is a match. Below is a feature set for each pair, including:\n",
    "\n",
    "* name_lev: Levenshtein distance between product names.\n",
    "* description_lev: Levenshtein distance between product descriptions.\n",
    "* manufacturer_lev: Levenshtein distance between manufacturer names.\n",
    "* name_tfidf_sim: Cosine similarity of TF-IDF vectors for product names.\n",
    "* description_tfidf_sim: Cosine similarity of TF-IDF vectors for product descriptions.\n",
    "* manufacturer_tfidf_sim: Cosine similarity of TF-IDF vectors for manufacturer names.\n",
    "\n",
    "Print the first five vectors of matrix (X).\n"
   ]
  },
  {
   "cell_type": "code",
   "execution_count": 99,
   "id": "0ab42305",
   "metadata": {},
   "outputs": [],
   "source": [
    "columns_to_extract = ['name_lev','description_lev','manufacturer_lev','name_cos','description_cos','manufacturer_cos']\n",
    "X=candidate_pairs_name_new[columns_to_extract].values.tolist()\n",
    "y=candidate_pairs_name_new[\"match\"]"
   ]
  },
  {
   "cell_type": "code",
   "execution_count": 100,
   "id": "a999823d",
   "metadata": {},
   "outputs": [
    {
     "data": {
      "text/plain": [
       "[[24.0, 1000.0, 15.0, 0.4550467125842712, 0.44475838515317967, 0.0],\n",
       " [23.0, 992.0, 6.0, 0.8134273792922354, 0.27248584237755685, 0.0],\n",
       " [23.0, 161.0, 6.0, 0.8134273792922354, 0.6102713720332433, 0.0],\n",
       " [24.0, 1000.0, 15.0, 0.4550467125842712, 0.44475838515317967, 0.0],\n",
       " [23.0, 992.0, 6.0, 0.8134273792922354, 0.27248584237755685, 0.0]]"
      ]
     },
     "execution_count": 100,
     "metadata": {},
     "output_type": "execute_result"
    }
   ],
   "source": [
    "X[0:5]"
   ]
  },
  {
   "cell_type": "markdown",
   "id": "83800bc0",
   "metadata": {},
   "source": [
    "### Question 4: Machine Learning for Entity Resolution"
   ]
  },
  {
   "cell_type": "markdown",
   "id": "6a4ba80f",
   "metadata": {},
   "source": [
    "**4.1** : Randomly partition the matrix into a training set containing 80% of duplicates and non-duplicates, and a test set containing the rest. The training set must remain fixed for the experiments in 3.2. In running your code, verify that approximately 80% of the matches and non-matches in your original dataset compiled at the end of Q1 are in the training set. "
   ]
  },
  {
   "cell_type": "code",
   "execution_count": 101,
   "id": "cedb40f6",
   "metadata": {},
   "outputs": [],
   "source": [
    "from collections import Counter\n",
    "import random"
   ]
  },
  {
   "cell_type": "code",
   "execution_count": 102,
   "id": "a1bb4df8",
   "metadata": {},
   "outputs": [],
   "source": [
    "yes_count=Counter(y).get(\"yes\")\n",
    "no_count=Counter(y).get(\"no\")\n",
    "yes_count_train=round(yes_count*0.8)\n",
    "no_count_train=round(no_count*0.8)\n",
    "\n",
    "indices_of_no = [i for i, x in enumerate(y) if x == 'no']\n",
    "indices_of_yes = [i for i, x in enumerate(y) if x == 'yes']\n",
    "\n",
    "random_picked_no = random.sample(indices_of_no,no_count_train)\n",
    "random_picked_yes = random.sample(indices_of_yes,yes_count_train)"
   ]
  },
  {
   "cell_type": "code",
   "execution_count": 103,
   "id": "32ba27da",
   "metadata": {},
   "outputs": [],
   "source": [
    "X_train=[]\n",
    "y_train=[]\n",
    "for n in random_picked_no:\n",
    "    X_train.append(X[n])\n",
    "    y_train.append(y[n])\n",
    "for y_y in random_picked_yes:\n",
    "    X_train.append(X[y_y])\n",
    "    y_train.append(y[y_y])\n",
    "\n",
    "X_test=[]\n",
    "y_test=[]\n",
    "for tt in range(len(y)):\n",
    "    if tt not in random_picked_no and tt in indices_of_no:\n",
    "        X_test.append(X[tt])\n",
    "        y_test.append(y[tt])\n",
    "    if tt not in random_picked_yes and tt in indices_of_yes:\n",
    "        X_test.append(X[tt])\n",
    "        y_test.append(y[tt])\n",
    "    "
   ]
  },
  {
   "cell_type": "markdown",
   "metadata": {},
   "source": [
    "Verify that approximately 80% of the matches and non-matches in your original dataset compiled at the end of Q1 are in the training set. "
   ]
  },
  {
   "cell_type": "code",
   "execution_count": 104,
   "id": "ef02970e",
   "metadata": {},
   "outputs": [
    {
     "name": "stdout",
     "output_type": "stream",
     "text": [
      "The proportion of matches in the training set is: 0.799860529986053\n"
     ]
    }
   ],
   "source": [
    "print(f'The proportion of matches in the training set is: {y_train.count(\"yes\")/yes_count}')"
   ]
  },
  {
   "cell_type": "code",
   "execution_count": 105,
   "id": "54c48bdf",
   "metadata": {},
   "outputs": [
    {
     "name": "stdout",
     "output_type": "stream",
     "text": [
      "The proportion of non-matches in the training set is: 0.8000055919029245\n"
     ]
    }
   ],
   "source": [
    "print(f'The proportion of non-matches in the training set is: {y_train.count(\"no\")/no_count}')"
   ]
  },
  {
   "cell_type": "markdown",
   "id": "e0499eef",
   "metadata": {},
   "source": [
    "**4.2** : Select any three different machine learning models from the sklearn package (e.g., a decision tree-based model, a logistic regression model…) . Train each model using the feature set prepared in Question 2. You will end up with a total of three trained models. \n",
    "\n"
   ]
  },
  {
   "cell_type": "code",
   "execution_count": 106,
   "id": "605d9ad3",
   "metadata": {},
   "outputs": [],
   "source": [
    "from sklearn.tree import DecisionTreeClassifier\n",
    "from sklearn.metrics import accuracy_score\n",
    "from sklearn.ensemble import RandomForestClassifier\n",
    "from sklearn.linear_model import LogisticRegression\n",
    "from sklearn.metrics import roc_auc_score\n",
    "from sklearn.metrics import precision_score, recall_score, f1_score\n"
   ]
  },
  {
   "cell_type": "code",
   "execution_count": 107,
   "id": "701114d3",
   "metadata": {},
   "outputs": [],
   "source": [
    "clf = DecisionTreeClassifier()\n",
    "clf.fit(X_train, y_train)\n",
    "\n",
    "y_probs = clf.predict_proba(X_test)[:, 1]\n",
    "auc = roc_auc_score(y_test, y_probs)\n",
    "\n",
    "y_pred = clf.predict(X_test)\n",
    "precision = precision_score(y_test, y_pred, pos_label='yes')\n",
    "recall = recall_score(y_test, y_pred, pos_label='yes')\n",
    "f1 = f1_score(y_test, y_pred, pos_label='yes')\n",
    "accuracy = accuracy_score(y_test, y_pred)\n"
   ]
  },
  {
   "cell_type": "code",
   "execution_count": 108,
   "id": "46acad16",
   "metadata": {},
   "outputs": [],
   "source": [
    "clf_2 = RandomForestClassifier()\n",
    "clf_2.fit(X_train, y_train)\n",
    "\n",
    "y_probs_2 = clf_2.predict_proba(X_test)[:, 1]\n",
    "auc_2 = roc_auc_score(y_test, y_probs_2)\n",
    "\n",
    "y_pred_2 = clf_2.predict(X_test)\n",
    "precision_2 = precision_score(y_test, y_pred_2, pos_label='yes')\n",
    "recall_2 = recall_score(y_test, y_pred_2, pos_label='yes')\n",
    "f1_2 = f1_score(y_test, y_pred_2, pos_label='yes')\n",
    "accuracy_2 = accuracy_score(y_test, y_pred_2)\n"
   ]
  },
  {
   "cell_type": "code",
   "execution_count": 109,
   "id": "19379721",
   "metadata": {},
   "outputs": [
    {
     "name": "stderr",
     "output_type": "stream",
     "text": [
      "c:\\Users\\royer\\anaconda3\\Lib\\site-packages\\sklearn\\linear_model\\_logistic.py:460: ConvergenceWarning: lbfgs failed to converge (status=1):\n",
      "STOP: TOTAL NO. of ITERATIONS REACHED LIMIT.\n",
      "\n",
      "Increase the number of iterations (max_iter) or scale the data as shown in:\n",
      "    https://scikit-learn.org/stable/modules/preprocessing.html\n",
      "Please also refer to the documentation for alternative solver options:\n",
      "    https://scikit-learn.org/stable/modules/linear_model.html#logistic-regression\n",
      "  n_iter_i = _check_optimize_result(\n"
     ]
    }
   ],
   "source": [
    "clf_3 = LogisticRegression()\n",
    "clf_3.fit(X_train, y_train)\n",
    "\n",
    "y_probs_3 = clf_3.predict_proba(X_test)[:, 1]\n",
    "auc_3 = roc_auc_score(y_test, y_probs_3)\n",
    "\n",
    "y_pred_3 = clf_3.predict(X_test)\n",
    "precision_3 = precision_score(y_test, y_pred_3, pos_label='yes')\n",
    "recall_3 = recall_score(y_test, y_pred_3, pos_label='yes')\n",
    "f1_3 = f1_score(y_test, y_pred_3, pos_label='yes')\n",
    "accuracy_3 = accuracy_score(y_test, y_pred_3)\n"
   ]
  },
  {
   "cell_type": "markdown",
   "id": "b51396c9",
   "metadata": {},
   "source": [
    "**4.3** : Provide a table below where, for each method, you are providing the AUC, precision, recall, F-measure and accuracy. Based on the numbers, which of these metrics might be problematic for evaluating ER? Why?\n",
    "\n"
   ]
  },
  {
   "cell_type": "code",
   "execution_count": 110,
   "id": "19c84fc8",
   "metadata": {},
   "outputs": [
    {
     "data": {
      "text/html": [
       "<div>\n",
       "<style scoped>\n",
       "    .dataframe tbody tr th:only-of-type {\n",
       "        vertical-align: middle;\n",
       "    }\n",
       "\n",
       "    .dataframe tbody tr th {\n",
       "        vertical-align: top;\n",
       "    }\n",
       "\n",
       "    .dataframe thead th {\n",
       "        text-align: right;\n",
       "    }\n",
       "</style>\n",
       "<table border=\"1\" class=\"dataframe\">\n",
       "  <thead>\n",
       "    <tr style=\"text-align: right;\">\n",
       "      <th></th>\n",
       "      <th>AUC</th>\n",
       "      <th>precision</th>\n",
       "      <th>recall</th>\n",
       "      <th>F-measure</th>\n",
       "      <th>accuracy</th>\n",
       "    </tr>\n",
       "  </thead>\n",
       "  <tbody>\n",
       "    <tr>\n",
       "      <th>DecisionTreeClassifier()</th>\n",
       "      <td>0.926892</td>\n",
       "      <td>0.847222</td>\n",
       "      <td>0.850174</td>\n",
       "      <td>0.848696</td>\n",
       "      <td>0.977482</td>\n",
       "    </tr>\n",
       "    <tr>\n",
       "      <th>RandomForestClassifier()</th>\n",
       "      <td>0.985700</td>\n",
       "      <td>0.923810</td>\n",
       "      <td>0.844948</td>\n",
       "      <td>0.882621</td>\n",
       "      <td>0.983305</td>\n",
       "    </tr>\n",
       "    <tr>\n",
       "      <th>LogisticRegression()</th>\n",
       "      <td>0.951025</td>\n",
       "      <td>0.582386</td>\n",
       "      <td>0.357143</td>\n",
       "      <td>0.442765</td>\n",
       "      <td>0.933221</td>\n",
       "    </tr>\n",
       "  </tbody>\n",
       "</table>\n",
       "</div>"
      ],
      "text/plain": [
       "                               AUC  precision    recall  F-measure  accuracy\n",
       "DecisionTreeClassifier()  0.926892   0.847222  0.850174   0.848696  0.977482\n",
       "RandomForestClassifier()  0.985700   0.923810  0.844948   0.882621  0.983305\n",
       "LogisticRegression()      0.951025   0.582386  0.357143   0.442765  0.933221"
      ]
     },
     "execution_count": 110,
     "metadata": {},
     "output_type": "execute_result"
    }
   ],
   "source": [
    "d_list=[auc,precision,recall,f1,accuracy]\n",
    "r_list=[auc_2,precision_2,recall_2,f1_2,accuracy_2]\n",
    "l_list=[auc_3,precision_3,recall_3,f1_3,accuracy_3]\n",
    "\n",
    "compare_table=pd.DataFrame([d_list,r_list,l_list],columns=[\"AUC\",\"precision\", \"recall\", \"F-measure\",\"accuracy\"],index=[\"DecisionTreeClassifier()\",\"RandomForestClassifier()\",\"LogisticRegression()\"])\n",
    "compare_table"
   ]
  },
  {
   "cell_type": "markdown",
   "metadata": {},
   "source": [
    "**A:** I think AUC is the problematic metrics. Based on the compare_table, Logistics Regression has the lowest result compared to other model in all the metrics, except AUC."
   ]
  },
  {
   "cell_type": "markdown",
   "id": "c39a6ee4",
   "metadata": {},
   "source": [
    "**4.4** : Using paired t-tests, can you indicate which (if any) of the three models is significantly better than each of the other two? "
   ]
  },
  {
   "cell_type": "code",
   "execution_count": 111,
   "id": "8ef970ca",
   "metadata": {},
   "outputs": [],
   "source": [
    "from scipy.stats import ttest_rel"
   ]
  },
  {
   "cell_type": "code",
   "execution_count": 112,
   "id": "b5ce984b",
   "metadata": {},
   "outputs": [],
   "source": [
    "d_vs_r=ttest_rel(d_list,r_list)\n",
    "d_vs_l=ttest_rel(d_list,l_list)\n",
    "l_vs_r=ttest_rel(l_list,r_list)"
   ]
  },
  {
   "cell_type": "code",
   "execution_count": 113,
   "id": "4317c59f",
   "metadata": {},
   "outputs": [
    {
     "data": {
      "text/html": [
       "<div>\n",
       "<style scoped>\n",
       "    .dataframe tbody tr th:only-of-type {\n",
       "        vertical-align: middle;\n",
       "    }\n",
       "\n",
       "    .dataframe tbody tr th {\n",
       "        vertical-align: top;\n",
       "    }\n",
       "\n",
       "    .dataframe thead th {\n",
       "        text-align: right;\n",
       "    }\n",
       "</style>\n",
       "<table border=\"1\" class=\"dataframe\">\n",
       "  <thead>\n",
       "    <tr style=\"text-align: right;\">\n",
       "      <th></th>\n",
       "      <th>t-score</th>\n",
       "      <th>p-value</th>\n",
       "    </tr>\n",
       "  </thead>\n",
       "  <tbody>\n",
       "    <tr>\n",
       "      <th>0</th>\n",
       "      <td>-2.202419</td>\n",
       "      <td>0.092403</td>\n",
       "    </tr>\n",
       "    <tr>\n",
       "      <th>1</th>\n",
       "      <td>2.366652</td>\n",
       "      <td>0.077102</td>\n",
       "    </tr>\n",
       "    <tr>\n",
       "      <th>2</th>\n",
       "      <td>-2.814335</td>\n",
       "      <td>0.048104</td>\n",
       "    </tr>\n",
       "  </tbody>\n",
       "</table>\n",
       "</div>"
      ],
      "text/plain": [
       "    t-score   p-value\n",
       "0 -2.202419  0.092403\n",
       "1  2.366652  0.077102\n",
       "2 -2.814335  0.048104"
      ]
     },
     "execution_count": 113,
     "metadata": {},
     "output_type": "execute_result"
    }
   ],
   "source": [
    "pd.DataFrame([d_vs_r,d_vs_l,l_vs_r],columns=[\"t-score\",\"p-value\"])"
   ]
  },
  {
   "cell_type": "markdown",
   "metadata": {},
   "source": [
    "**A:** </br>\n",
    "Decision tree vs Random Forest: The p-value is 0.092, which is higher than the threshold(0.05). So there is no difference between two models. </br>\n",
    "Decision tree vs Logistic Regression: The p-value is 0.077, which is higher than the threshold(0.05). So there is no difference between two models. </br>\n",
    "Logistic Regression vs Random Forest: p-value(0.048) < the threshold(0.05), so these two models have signifciant difference in the performance metrics."
   ]
  }
 ],
 "metadata": {
  "kernelspec": {
   "display_name": "Python 3 (ipykernel)",
   "language": "python",
   "name": "python3"
  },
  "language_info": {
   "codemirror_mode": {
    "name": "ipython",
    "version": 3
   },
   "file_extension": ".py",
   "mimetype": "text/x-python",
   "name": "python",
   "nbconvert_exporter": "python",
   "pygments_lexer": "ipython3",
   "version": "3.11.5"
  }
 },
 "nbformat": 4,
 "nbformat_minor": 5
}
